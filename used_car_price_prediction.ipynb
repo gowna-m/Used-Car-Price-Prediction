{
 "cells": [
  {
   "cell_type": "markdown",
   "metadata": {},
   "source": [
    "# What drives the price of a car?"
   ]
  },
  {
   "cell_type": "markdown",
   "metadata": {},
   "source": [
    "**OVERVIEW**\n",
    "\n",
    "In this application, you will explore a dataset from kaggle. The original dataset contained information on 3 million used cars. The provided dataset contains information on 426K cars to ensure speed of processing.  Your goal is to understand what factors make a car more or less expensive.  As a result of your analysis, you should provide clear recommendations to your client -- a used car dealership -- as to what consumers value in a used car."
   ]
  },
  {
   "cell_type": "markdown",
   "metadata": {},
   "source": [
    "### Business Understanding\n",
    "\n",
    "The market for used cars has progressed significantly as more people choose personal vehicles. The second-hand automobile market has significantly grown after the covid had struck due to reduction in the cash flow and economic crisis and semiconductor chip shortages that to a mass reduction in the vehicle production which made people look for afforable second-hand vehicles instead of the brand-new ones.\n",
    "\n",
    "To enable consumers to know the actual worth of their car or desired\n",
    "car, by simply providing the program with a set of attributes from the desired car to predict the car price.\n",
    "The purpose of this study is to understand and evaluate used car prices, and to develop a strategy\n",
    "that utilizes Machine Learning techniques to predict used car prices."
   ]
  },
  {
   "cell_type": "code",
   "execution_count": 2,
   "metadata": {},
   "outputs": [
    {
     "data": {
      "text/html": [
       "<style>.container { width:95% !important; }</style>"
      ],
      "text/plain": [
       "<IPython.core.display.HTML object>"
      ]
     },
     "metadata": {},
     "output_type": "display_data"
    }
   ],
   "source": [
    "from IPython.display import display, HTML\n",
    "display(HTML(\"<style>.container { width:95% !important; }</style>\"))\n",
    "\n",
    "import warnings\n",
    "warnings.filterwarnings('ignore')\n",
    "\n",
    "import pandas as pd\n",
    "import seaborn as sns\n",
    "from copy import deepcopy"
   ]
  },
  {
   "cell_type": "markdown",
   "metadata": {},
   "source": [
    "## Data Understanding\n",
    "\n",
    "1. Looked at the data info using df.info() to see the index dtype and columns and non-null values.\n",
    "2. Checked on how many unique values in each feature.\n",
    "3. Checked on the missing values count."
   ]
  },
  {
   "cell_type": "code",
   "execution_count": 3,
   "metadata": {},
   "outputs": [
    {
     "name": "stdout",
     "output_type": "stream",
     "text": [
      "<class 'pandas.core.frame.DataFrame'>\n",
      "RangeIndex: 426880 entries, 0 to 426879\n",
      "Data columns (total 18 columns):\n",
      "id              426880 non-null int64\n",
      "region          426880 non-null object\n",
      "price           426880 non-null int64\n",
      "year            425675 non-null float64\n",
      "manufacturer    409234 non-null object\n",
      "model           421603 non-null object\n",
      "condition       252776 non-null object\n",
      "cylinders       249202 non-null object\n",
      "fuel            423867 non-null object\n",
      "odometer        422480 non-null float64\n",
      "title_status    418638 non-null object\n",
      "transmission    424324 non-null object\n",
      "VIN             265838 non-null object\n",
      "drive           296313 non-null object\n",
      "size            120519 non-null object\n",
      "type            334022 non-null object\n",
      "paint_color     296677 non-null object\n",
      "state           426880 non-null object\n",
      "dtypes: float64(2), int64(2), object(14)\n",
      "memory usage: 58.6+ MB\n"
     ]
    }
   ],
   "source": [
    "df=pd.read_csv('vehicles.csv')\n",
    "df.info()"
   ]
  },
  {
   "cell_type": "code",
   "execution_count": 4,
   "metadata": {},
   "outputs": [],
   "source": [
    "df_master=deepcopy(df)"
   ]
  },
  {
   "cell_type": "code",
   "execution_count": 5,
   "metadata": {},
   "outputs": [],
   "source": [
    "# Rearranging Columns\n",
    "\n",
    "df=df[['id', 'region', 'year', 'manufacturer', 'model', 'condition',\n",
    "       'cylinders', 'fuel', 'odometer', 'title_status', 'transmission', 'VIN',\n",
    "       'drive', 'size', 'type', 'paint_color', 'state','price']]"
   ]
  },
  {
   "cell_type": "code",
   "execution_count": 6,
   "metadata": {
    "scrolled": false
   },
   "outputs": [
    {
     "data": {
      "text/html": [
       "<div>\n",
       "<style scoped>\n",
       "    .dataframe tbody tr th:only-of-type {\n",
       "        vertical-align: middle;\n",
       "    }\n",
       "\n",
       "    .dataframe tbody tr th {\n",
       "        vertical-align: top;\n",
       "    }\n",
       "\n",
       "    .dataframe thead th {\n",
       "        text-align: right;\n",
       "    }\n",
       "</style>\n",
       "<table border=\"1\" class=\"dataframe\">\n",
       "  <thead>\n",
       "    <tr style=\"text-align: right;\">\n",
       "      <th></th>\n",
       "      <th>id</th>\n",
       "      <th>region</th>\n",
       "      <th>year</th>\n",
       "      <th>manufacturer</th>\n",
       "      <th>model</th>\n",
       "      <th>condition</th>\n",
       "      <th>cylinders</th>\n",
       "      <th>fuel</th>\n",
       "      <th>odometer</th>\n",
       "      <th>title_status</th>\n",
       "      <th>transmission</th>\n",
       "      <th>VIN</th>\n",
       "      <th>drive</th>\n",
       "      <th>size</th>\n",
       "      <th>type</th>\n",
       "      <th>paint_color</th>\n",
       "      <th>state</th>\n",
       "      <th>price</th>\n",
       "    </tr>\n",
       "  </thead>\n",
       "  <tbody>\n",
       "    <tr>\n",
       "      <th>30</th>\n",
       "      <td>7316743432</td>\n",
       "      <td>auburn</td>\n",
       "      <td>2017.0</td>\n",
       "      <td>toyota</td>\n",
       "      <td>tundra double cab sr</td>\n",
       "      <td>good</td>\n",
       "      <td>8 cylinders</td>\n",
       "      <td>gas</td>\n",
       "      <td>41124.0</td>\n",
       "      <td>clean</td>\n",
       "      <td>other</td>\n",
       "      <td>5TFRM5F17HX120972</td>\n",
       "      <td>NaN</td>\n",
       "      <td>NaN</td>\n",
       "      <td>pickup</td>\n",
       "      <td>red</td>\n",
       "      <td>al</td>\n",
       "      <td>30990</td>\n",
       "    </tr>\n",
       "    <tr>\n",
       "      <th>31</th>\n",
       "      <td>7316356412</td>\n",
       "      <td>auburn</td>\n",
       "      <td>2013.0</td>\n",
       "      <td>ford</td>\n",
       "      <td>f-150 xlt</td>\n",
       "      <td>excellent</td>\n",
       "      <td>6 cylinders</td>\n",
       "      <td>gas</td>\n",
       "      <td>128000.0</td>\n",
       "      <td>clean</td>\n",
       "      <td>automatic</td>\n",
       "      <td>NaN</td>\n",
       "      <td>rwd</td>\n",
       "      <td>full-size</td>\n",
       "      <td>truck</td>\n",
       "      <td>black</td>\n",
       "      <td>al</td>\n",
       "      <td>15000</td>\n",
       "    </tr>\n",
       "    <tr>\n",
       "      <th>32</th>\n",
       "      <td>7316343444</td>\n",
       "      <td>auburn</td>\n",
       "      <td>2012.0</td>\n",
       "      <td>gmc</td>\n",
       "      <td>sierra 2500 hd extended cab</td>\n",
       "      <td>good</td>\n",
       "      <td>8 cylinders</td>\n",
       "      <td>gas</td>\n",
       "      <td>68696.0</td>\n",
       "      <td>clean</td>\n",
       "      <td>other</td>\n",
       "      <td>1GT220CG8CZ231238</td>\n",
       "      <td>4wd</td>\n",
       "      <td>NaN</td>\n",
       "      <td>pickup</td>\n",
       "      <td>black</td>\n",
       "      <td>al</td>\n",
       "      <td>27990</td>\n",
       "    </tr>\n",
       "    <tr>\n",
       "      <th>33</th>\n",
       "      <td>7316304717</td>\n",
       "      <td>auburn</td>\n",
       "      <td>2016.0</td>\n",
       "      <td>chevrolet</td>\n",
       "      <td>silverado 1500 double</td>\n",
       "      <td>good</td>\n",
       "      <td>6 cylinders</td>\n",
       "      <td>gas</td>\n",
       "      <td>29499.0</td>\n",
       "      <td>clean</td>\n",
       "      <td>other</td>\n",
       "      <td>1GCVKREH6GZ228691</td>\n",
       "      <td>4wd</td>\n",
       "      <td>NaN</td>\n",
       "      <td>pickup</td>\n",
       "      <td>silver</td>\n",
       "      <td>al</td>\n",
       "      <td>34590</td>\n",
       "    </tr>\n",
       "    <tr>\n",
       "      <th>34</th>\n",
       "      <td>7316285779</td>\n",
       "      <td>auburn</td>\n",
       "      <td>2019.0</td>\n",
       "      <td>toyota</td>\n",
       "      <td>tacoma</td>\n",
       "      <td>excellent</td>\n",
       "      <td>6 cylinders</td>\n",
       "      <td>gas</td>\n",
       "      <td>43000.0</td>\n",
       "      <td>clean</td>\n",
       "      <td>automatic</td>\n",
       "      <td>NaN</td>\n",
       "      <td>4wd</td>\n",
       "      <td>NaN</td>\n",
       "      <td>truck</td>\n",
       "      <td>grey</td>\n",
       "      <td>al</td>\n",
       "      <td>35000</td>\n",
       "    </tr>\n",
       "    <tr>\n",
       "      <th>35</th>\n",
       "      <td>7316257769</td>\n",
       "      <td>auburn</td>\n",
       "      <td>2016.0</td>\n",
       "      <td>chevrolet</td>\n",
       "      <td>colorado extended cab</td>\n",
       "      <td>good</td>\n",
       "      <td>6 cylinders</td>\n",
       "      <td>gas</td>\n",
       "      <td>17302.0</td>\n",
       "      <td>clean</td>\n",
       "      <td>other</td>\n",
       "      <td>1GCHTCE37G1186784</td>\n",
       "      <td>4wd</td>\n",
       "      <td>NaN</td>\n",
       "      <td>pickup</td>\n",
       "      <td>red</td>\n",
       "      <td>al</td>\n",
       "      <td>29990</td>\n",
       "    </tr>\n",
       "    <tr>\n",
       "      <th>36</th>\n",
       "      <td>7316133914</td>\n",
       "      <td>auburn</td>\n",
       "      <td>2011.0</td>\n",
       "      <td>chevrolet</td>\n",
       "      <td>corvette grand sport</td>\n",
       "      <td>good</td>\n",
       "      <td>8 cylinders</td>\n",
       "      <td>gas</td>\n",
       "      <td>30237.0</td>\n",
       "      <td>clean</td>\n",
       "      <td>other</td>\n",
       "      <td>1G1YR3DW3B5102190</td>\n",
       "      <td>rwd</td>\n",
       "      <td>NaN</td>\n",
       "      <td>other</td>\n",
       "      <td>red</td>\n",
       "      <td>al</td>\n",
       "      <td>38590</td>\n",
       "    </tr>\n",
       "    <tr>\n",
       "      <th>37</th>\n",
       "      <td>7316130053</td>\n",
       "      <td>auburn</td>\n",
       "      <td>1992.0</td>\n",
       "      <td>jeep</td>\n",
       "      <td>cherokee</td>\n",
       "      <td>excellent</td>\n",
       "      <td>6 cylinders</td>\n",
       "      <td>gas</td>\n",
       "      <td>192000.0</td>\n",
       "      <td>clean</td>\n",
       "      <td>automatic</td>\n",
       "      <td>NaN</td>\n",
       "      <td>4wd</td>\n",
       "      <td>NaN</td>\n",
       "      <td>NaN</td>\n",
       "      <td>NaN</td>\n",
       "      <td>al</td>\n",
       "      <td>4500</td>\n",
       "    </tr>\n",
       "    <tr>\n",
       "      <th>38</th>\n",
       "      <td>7315816316</td>\n",
       "      <td>auburn</td>\n",
       "      <td>2017.0</td>\n",
       "      <td>jeep</td>\n",
       "      <td>wrangler unlimited sport</td>\n",
       "      <td>good</td>\n",
       "      <td>6 cylinders</td>\n",
       "      <td>gas</td>\n",
       "      <td>30041.0</td>\n",
       "      <td>clean</td>\n",
       "      <td>other</td>\n",
       "      <td>1C4BJWDG5HL705371</td>\n",
       "      <td>4wd</td>\n",
       "      <td>NaN</td>\n",
       "      <td>other</td>\n",
       "      <td>silver</td>\n",
       "      <td>al</td>\n",
       "      <td>32990</td>\n",
       "    </tr>\n",
       "    <tr>\n",
       "      <th>39</th>\n",
       "      <td>7315770394</td>\n",
       "      <td>auburn</td>\n",
       "      <td>2017.0</td>\n",
       "      <td>chevrolet</td>\n",
       "      <td>silverado 1500 regular</td>\n",
       "      <td>good</td>\n",
       "      <td>6 cylinders</td>\n",
       "      <td>gas</td>\n",
       "      <td>40784.0</td>\n",
       "      <td>clean</td>\n",
       "      <td>other</td>\n",
       "      <td>1GCNCNEH7HZ118773</td>\n",
       "      <td>NaN</td>\n",
       "      <td>NaN</td>\n",
       "      <td>pickup</td>\n",
       "      <td>white</td>\n",
       "      <td>al</td>\n",
       "      <td>24590</td>\n",
       "    </tr>\n",
       "  </tbody>\n",
       "</table>\n",
       "</div>"
      ],
      "text/plain": [
       "            id  region    year manufacturer                        model  \\\n",
       "30  7316743432  auburn  2017.0       toyota         tundra double cab sr   \n",
       "31  7316356412  auburn  2013.0         ford                    f-150 xlt   \n",
       "32  7316343444  auburn  2012.0          gmc  sierra 2500 hd extended cab   \n",
       "33  7316304717  auburn  2016.0    chevrolet        silverado 1500 double   \n",
       "34  7316285779  auburn  2019.0       toyota                       tacoma   \n",
       "35  7316257769  auburn  2016.0    chevrolet        colorado extended cab   \n",
       "36  7316133914  auburn  2011.0    chevrolet         corvette grand sport   \n",
       "37  7316130053  auburn  1992.0         jeep                     cherokee   \n",
       "38  7315816316  auburn  2017.0         jeep     wrangler unlimited sport   \n",
       "39  7315770394  auburn  2017.0    chevrolet       silverado 1500 regular   \n",
       "\n",
       "    condition    cylinders fuel  odometer title_status transmission  \\\n",
       "30       good  8 cylinders  gas   41124.0        clean        other   \n",
       "31  excellent  6 cylinders  gas  128000.0        clean    automatic   \n",
       "32       good  8 cylinders  gas   68696.0        clean        other   \n",
       "33       good  6 cylinders  gas   29499.0        clean        other   \n",
       "34  excellent  6 cylinders  gas   43000.0        clean    automatic   \n",
       "35       good  6 cylinders  gas   17302.0        clean        other   \n",
       "36       good  8 cylinders  gas   30237.0        clean        other   \n",
       "37  excellent  6 cylinders  gas  192000.0        clean    automatic   \n",
       "38       good  6 cylinders  gas   30041.0        clean        other   \n",
       "39       good  6 cylinders  gas   40784.0        clean        other   \n",
       "\n",
       "                  VIN drive       size    type paint_color state  price  \n",
       "30  5TFRM5F17HX120972   NaN        NaN  pickup         red    al  30990  \n",
       "31                NaN   rwd  full-size   truck       black    al  15000  \n",
       "32  1GT220CG8CZ231238   4wd        NaN  pickup       black    al  27990  \n",
       "33  1GCVKREH6GZ228691   4wd        NaN  pickup      silver    al  34590  \n",
       "34                NaN   4wd        NaN   truck        grey    al  35000  \n",
       "35  1GCHTCE37G1186784   4wd        NaN  pickup         red    al  29990  \n",
       "36  1G1YR3DW3B5102190   rwd        NaN   other         red    al  38590  \n",
       "37                NaN   4wd        NaN     NaN         NaN    al   4500  \n",
       "38  1C4BJWDG5HL705371   4wd        NaN   other      silver    al  32990  \n",
       "39  1GCNCNEH7HZ118773   NaN        NaN  pickup       white    al  24590  "
      ]
     },
     "execution_count": 6,
     "metadata": {},
     "output_type": "execute_result"
    }
   ],
   "source": [
    "df.iloc[30:40,:]"
   ]
  },
  {
   "cell_type": "code",
   "execution_count": 7,
   "metadata": {},
   "outputs": [
    {
     "name": "stdout",
     "output_type": "stream",
     "text": [
      "id 426880\n",
      "region 404\n",
      "year 114\n",
      "manufacturer 42\n",
      "model 29649\n",
      "condition 6\n",
      "cylinders 8\n",
      "fuel 5\n",
      "odometer 104870\n",
      "title_status 6\n",
      "transmission 3\n",
      "VIN 118246\n",
      "drive 3\n",
      "size 4\n",
      "type 13\n",
      "paint_color 12\n",
      "state 51\n",
      "price 15655\n"
     ]
    }
   ],
   "source": [
    "for col in df.columns:\n",
    "    print(col, df[col].nunique())"
   ]
  },
  {
   "cell_type": "markdown",
   "metadata": {},
   "source": [
    "## Data Preparation\n",
    "\n",
    "1. Almost every column has missing values. So first we have to do the imputations.\n",
    "2. Drop the columns `VIN` and `State` as they are not relevant for price prediction.\n",
    "3. Identify `Numerical` and `Categorical` Columns and label encode the categorical features. There are two numerical features, Year and Odometer, rest are categorical.\n",
    "4. `Label Encode` the Categorical Features, namely: region, manufacturer, model, condition, cylinders, fuel, title_status, transmission, drive, size, type & paint_color.\n",
    "5. After encoding, we first impute the Categorical Data using simple imputations of `Mean` and `Median` and testing them on `Bayesian Ridge estimator` one by one. We save the scores of 6 fold `cross validation` in another dataframe.\n",
    "6. Now we impute the data using IterativeImputer on 4 estimators - \n",
    "\n",
    "    1. `BayesianRidge`\n",
    "    \n",
    "    2. `DecisionTreeRegressor`\n",
    "    \n",
    "    3. `ExtraTreesRegressor`\n",
    "    \n",
    "    4. `KNeighborsRegressor`\n",
    "    \n",
    "7. The score of these estimators is also saved in the dataframe to compare with the previous imputers.\n",
    "8. Created a plot to compare the scores more intuitively.\n",
    "9. Checking the scores, we move ahead with `IterativeImputer` using `Bayesian Ridge estimator` to impute the missing values of categorical features.\n",
    "10. In the next step, we impute the missing values in `Numerical Features` using `ExtraTreesRegressor` as estimator in IterativeImputation.\n",
    "11. Convert the Target Variable to its log values, so that we get a `normalized target`.\n",
    "12. We find out the outliers for numerical variables and target and drop the outlier data points.\n",
    "\n",
    "    `Shape before pre-processing: 426,880`\n",
    "    \n",
    "    `Shape after pre-processing: 364,432`\n",
    "    \n",
    "    `Total 62,448 data points dropped.`\n",
    "    \n",
    "    \n",
    "13. Saved this processed data in a new csv file."
   ]
  },
  {
   "cell_type": "code",
   "execution_count": 8,
   "metadata": {
    "scrolled": false
   },
   "outputs": [
    {
     "data": {
      "text/plain": [
       "<matplotlib.axes._subplots.AxesSubplot at 0x7fd333148990>"
      ]
     },
     "execution_count": 8,
     "metadata": {},
     "output_type": "execute_result"
    },
    {
     "data": {
      "image/png": "[encoded data removed]",
      "text/plain": [
       "<Figure size 720x576 with 2 Axes>"
      ]
     },
     "metadata": {},
     "output_type": "display_data"
    }
   ],
   "source": [
    "sns.set(rc={'figure.figsize':(10,8)})\n",
    "sns.heatmap(df.isnull(),yticklabels=False,cbar=True,cmap='Accent')"
   ]
  },
  {
   "cell_type": "code",
   "execution_count": 9,
   "metadata": {},
   "outputs": [],
   "source": [
    "df=df.drop(columns=['VIN','state'])"
   ]
  },
  {
   "cell_type": "code",
   "execution_count": 10,
   "metadata": {},
   "outputs": [
    {
     "data": {
      "text/html": [
       "<div>\n",
       "<style scoped>\n",
       "    .dataframe tbody tr th:only-of-type {\n",
       "        vertical-align: middle;\n",
       "    }\n",
       "\n",
       "    .dataframe tbody tr th {\n",
       "        vertical-align: top;\n",
       "    }\n",
       "\n",
       "    .dataframe thead th {\n",
       "        text-align: right;\n",
       "    }\n",
       "</style>\n",
       "<table border=\"1\" class=\"dataframe\">\n",
       "  <thead>\n",
       "    <tr style=\"text-align: right;\">\n",
       "      <th></th>\n",
       "      <th>id</th>\n",
       "      <th>region</th>\n",
       "      <th>year</th>\n",
       "      <th>manufacturer</th>\n",
       "      <th>model</th>\n",
       "      <th>condition</th>\n",
       "      <th>cylinders</th>\n",
       "      <th>fuel</th>\n",
       "      <th>odometer</th>\n",
       "      <th>title_status</th>\n",
       "      <th>transmission</th>\n",
       "      <th>drive</th>\n",
       "      <th>size</th>\n",
       "      <th>type</th>\n",
       "      <th>paint_color</th>\n",
       "      <th>price</th>\n",
       "    </tr>\n",
       "  </thead>\n",
       "  <tbody>\n",
       "    <tr>\n",
       "      <th>0</th>\n",
       "      <td>7222695916</td>\n",
       "      <td>prescott</td>\n",
       "      <td>NaN</td>\n",
       "      <td>NaN</td>\n",
       "      <td>NaN</td>\n",
       "      <td>NaN</td>\n",
       "      <td>NaN</td>\n",
       "      <td>NaN</td>\n",
       "      <td>NaN</td>\n",
       "      <td>NaN</td>\n",
       "      <td>NaN</td>\n",
       "      <td>NaN</td>\n",
       "      <td>NaN</td>\n",
       "      <td>NaN</td>\n",
       "      <td>NaN</td>\n",
       "      <td>6000</td>\n",
       "    </tr>\n",
       "    <tr>\n",
       "      <th>1</th>\n",
       "      <td>7218891961</td>\n",
       "      <td>fayetteville</td>\n",
       "      <td>NaN</td>\n",
       "      <td>NaN</td>\n",
       "      <td>NaN</td>\n",
       "      <td>NaN</td>\n",
       "      <td>NaN</td>\n",
       "      <td>NaN</td>\n",
       "      <td>NaN</td>\n",
       "      <td>NaN</td>\n",
       "      <td>NaN</td>\n",
       "      <td>NaN</td>\n",
       "      <td>NaN</td>\n",
       "      <td>NaN</td>\n",
       "      <td>NaN</td>\n",
       "      <td>11900</td>\n",
       "    </tr>\n",
       "    <tr>\n",
       "      <th>2</th>\n",
       "      <td>7221797935</td>\n",
       "      <td>florida keys</td>\n",
       "      <td>NaN</td>\n",
       "      <td>NaN</td>\n",
       "      <td>NaN</td>\n",
       "      <td>NaN</td>\n",
       "      <td>NaN</td>\n",
       "      <td>NaN</td>\n",
       "      <td>NaN</td>\n",
       "      <td>NaN</td>\n",
       "      <td>NaN</td>\n",
       "      <td>NaN</td>\n",
       "      <td>NaN</td>\n",
       "      <td>NaN</td>\n",
       "      <td>NaN</td>\n",
       "      <td>21000</td>\n",
       "    </tr>\n",
       "    <tr>\n",
       "      <th>3</th>\n",
       "      <td>7222270760</td>\n",
       "      <td>worcester / central MA</td>\n",
       "      <td>NaN</td>\n",
       "      <td>NaN</td>\n",
       "      <td>NaN</td>\n",
       "      <td>NaN</td>\n",
       "      <td>NaN</td>\n",
       "      <td>NaN</td>\n",
       "      <td>NaN</td>\n",
       "      <td>NaN</td>\n",
       "      <td>NaN</td>\n",
       "      <td>NaN</td>\n",
       "      <td>NaN</td>\n",
       "      <td>NaN</td>\n",
       "      <td>NaN</td>\n",
       "      <td>1500</td>\n",
       "    </tr>\n",
       "    <tr>\n",
       "      <th>4</th>\n",
       "      <td>7210384030</td>\n",
       "      <td>greensboro</td>\n",
       "      <td>NaN</td>\n",
       "      <td>NaN</td>\n",
       "      <td>NaN</td>\n",
       "      <td>NaN</td>\n",
       "      <td>NaN</td>\n",
       "      <td>NaN</td>\n",
       "      <td>NaN</td>\n",
       "      <td>NaN</td>\n",
       "      <td>NaN</td>\n",
       "      <td>NaN</td>\n",
       "      <td>NaN</td>\n",
       "      <td>NaN</td>\n",
       "      <td>NaN</td>\n",
       "      <td>4900</td>\n",
       "    </tr>\n",
       "  </tbody>\n",
       "</table>\n",
       "</div>"
      ],
      "text/plain": [
       "           id                  region  year manufacturer model condition  \\\n",
       "0  7222695916                prescott   NaN          NaN   NaN       NaN   \n",
       "1  7218891961            fayetteville   NaN          NaN   NaN       NaN   \n",
       "2  7221797935            florida keys   NaN          NaN   NaN       NaN   \n",
       "3  7222270760  worcester / central MA   NaN          NaN   NaN       NaN   \n",
       "4  7210384030              greensboro   NaN          NaN   NaN       NaN   \n",
       "\n",
       "  cylinders fuel  odometer title_status transmission drive size type  \\\n",
       "0       NaN  NaN       NaN          NaN          NaN   NaN  NaN  NaN   \n",
       "1       NaN  NaN       NaN          NaN          NaN   NaN  NaN  NaN   \n",
       "2       NaN  NaN       NaN          NaN          NaN   NaN  NaN  NaN   \n",
       "3       NaN  NaN       NaN          NaN          NaN   NaN  NaN  NaN   \n",
       "4       NaN  NaN       NaN          NaN          NaN   NaN  NaN  NaN   \n",
       "\n",
       "  paint_color  price  \n",
       "0         NaN   6000  \n",
       "1         NaN  11900  \n",
       "2         NaN  21000  \n",
       "3         NaN   1500  \n",
       "4         NaN   4900  "
      ]
     },
     "execution_count": 10,
     "metadata": {},
     "output_type": "execute_result"
    }
   ],
   "source": [
    "df.head()"
   ]
  },
  {
   "cell_type": "code",
   "execution_count": 11,
   "metadata": {},
   "outputs": [],
   "source": [
    "num_col=['year','odometer']\n",
    "cat_cols=['region','manufacturer','model','condition','cylinders','fuel','title_status','transmission','drive','size','type','paint_color']"
   ]
  },
  {
   "cell_type": "code",
   "execution_count": 12,
   "metadata": {},
   "outputs": [],
   "source": [
    "# Label Encoding of Categorical Variables\n",
    "\n",
    "from sklearn.preprocessing import LabelEncoder\n",
    "\n",
    "original=deepcopy(df_master)\n",
    "mask=df[cat_cols].isnull()\n",
    "\n",
    "df[cat_cols]=df[cat_cols].astype(str).apply(LabelEncoder().fit_transform)\n",
    "df[cat_cols]=df[cat_cols].where(~mask, original)"
   ]
  },
  {
   "cell_type": "code",
   "execution_count": 13,
   "metadata": {
    "scrolled": false
   },
   "outputs": [
    {
     "data": {
      "text/plain": [
       "good         121456\n",
       "excellent    101467\n",
       "like new      21178\n",
       "fair           6769\n",
       "new            1305\n",
       "salvage         601\n",
       "Name: condition, dtype: int64"
      ]
     },
     "execution_count": 13,
     "metadata": {},
     "output_type": "execute_result"
    }
   ],
   "source": [
    "df_master.condition.value_counts()"
   ]
  },
  {
   "cell_type": "code",
   "execution_count": 14,
   "metadata": {},
   "outputs": [
    {
     "data": {
      "text/plain": [
       "2    121456\n",
       "0    101467\n",
       "3     21178\n",
       "1      6769\n",
       "5      1305\n",
       "6       601\n",
       "Name: condition, dtype: int64"
      ]
     },
     "execution_count": 14,
     "metadata": {},
     "output_type": "execute_result"
    }
   ],
   "source": [
    "df.condition.value_counts()"
   ]
  },
  {
   "cell_type": "code",
   "execution_count": 15,
   "metadata": {
    "scrolled": true
   },
   "outputs": [
    {
     "data": {
      "text/html": [
       "<div>\n",
       "<style scoped>\n",
       "    .dataframe tbody tr th:only-of-type {\n",
       "        vertical-align: middle;\n",
       "    }\n",
       "\n",
       "    .dataframe tbody tr th {\n",
       "        vertical-align: top;\n",
       "    }\n",
       "\n",
       "    .dataframe thead th {\n",
       "        text-align: right;\n",
       "    }\n",
       "</style>\n",
       "<table border=\"1\" class=\"dataframe\">\n",
       "  <thead>\n",
       "    <tr style=\"text-align: right;\">\n",
       "      <th></th>\n",
       "      <th>id</th>\n",
       "      <th>region</th>\n",
       "      <th>year</th>\n",
       "      <th>manufacturer</th>\n",
       "      <th>model</th>\n",
       "      <th>condition</th>\n",
       "      <th>cylinders</th>\n",
       "      <th>fuel</th>\n",
       "      <th>odometer</th>\n",
       "      <th>title_status</th>\n",
       "      <th>transmission</th>\n",
       "      <th>drive</th>\n",
       "      <th>size</th>\n",
       "      <th>type</th>\n",
       "      <th>paint_color</th>\n",
       "      <th>price</th>\n",
       "    </tr>\n",
       "  </thead>\n",
       "  <tbody>\n",
       "    <tr>\n",
       "      <th>30</th>\n",
       "      <td>7316743432</td>\n",
       "      <td>16</td>\n",
       "      <td>2017.0</td>\n",
       "      <td>40</td>\n",
       "      <td>27851</td>\n",
       "      <td>2</td>\n",
       "      <td>6</td>\n",
       "      <td>2</td>\n",
       "      <td>41124.0</td>\n",
       "      <td>0</td>\n",
       "      <td>3</td>\n",
       "      <td>NaN</td>\n",
       "      <td>NaN</td>\n",
       "      <td>9</td>\n",
       "      <td>9</td>\n",
       "      <td>30990</td>\n",
       "    </tr>\n",
       "    <tr>\n",
       "      <th>31</th>\n",
       "      <td>7316356412</td>\n",
       "      <td>16</td>\n",
       "      <td>2013.0</td>\n",
       "      <td>13</td>\n",
       "      <td>14513</td>\n",
       "      <td>0</td>\n",
       "      <td>5</td>\n",
       "      <td>2</td>\n",
       "      <td>128000.0</td>\n",
       "      <td>0</td>\n",
       "      <td>0</td>\n",
       "      <td>3</td>\n",
       "      <td>1</td>\n",
       "      <td>11</td>\n",
       "      <td>0</td>\n",
       "      <td>15000</td>\n",
       "    </tr>\n",
       "    <tr>\n",
       "      <th>32</th>\n",
       "      <td>7316343444</td>\n",
       "      <td>16</td>\n",
       "      <td>2012.0</td>\n",
       "      <td>14</td>\n",
       "      <td>24472</td>\n",
       "      <td>2</td>\n",
       "      <td>6</td>\n",
       "      <td>2</td>\n",
       "      <td>68696.0</td>\n",
       "      <td>0</td>\n",
       "      <td>3</td>\n",
       "      <td>0</td>\n",
       "      <td>NaN</td>\n",
       "      <td>9</td>\n",
       "      <td>0</td>\n",
       "      <td>27990</td>\n",
       "    </tr>\n",
       "    <tr>\n",
       "      <th>33</th>\n",
       "      <td>7316304717</td>\n",
       "      <td>16</td>\n",
       "      <td>2016.0</td>\n",
       "      <td>7</td>\n",
       "      <td>24803</td>\n",
       "      <td>2</td>\n",
       "      <td>5</td>\n",
       "      <td>2</td>\n",
       "      <td>29499.0</td>\n",
       "      <td>0</td>\n",
       "      <td>3</td>\n",
       "      <td>0</td>\n",
       "      <td>NaN</td>\n",
       "      <td>9</td>\n",
       "      <td>10</td>\n",
       "      <td>34590</td>\n",
       "    </tr>\n",
       "    <tr>\n",
       "      <th>34</th>\n",
       "      <td>7316285779</td>\n",
       "      <td>16</td>\n",
       "      <td>2019.0</td>\n",
       "      <td>40</td>\n",
       "      <td>26341</td>\n",
       "      <td>0</td>\n",
       "      <td>5</td>\n",
       "      <td>2</td>\n",
       "      <td>43000.0</td>\n",
       "      <td>0</td>\n",
       "      <td>0</td>\n",
       "      <td>0</td>\n",
       "      <td>NaN</td>\n",
       "      <td>11</td>\n",
       "      <td>5</td>\n",
       "      <td>35000</td>\n",
       "    </tr>\n",
       "    <tr>\n",
       "      <th>35</th>\n",
       "      <td>7316257769</td>\n",
       "      <td>16</td>\n",
       "      <td>2016.0</td>\n",
       "      <td>7</td>\n",
       "      <td>11008</td>\n",
       "      <td>2</td>\n",
       "      <td>5</td>\n",
       "      <td>2</td>\n",
       "      <td>17302.0</td>\n",
       "      <td>0</td>\n",
       "      <td>3</td>\n",
       "      <td>0</td>\n",
       "      <td>NaN</td>\n",
       "      <td>9</td>\n",
       "      <td>9</td>\n",
       "      <td>29990</td>\n",
       "    </tr>\n",
       "    <tr>\n",
       "      <th>36</th>\n",
       "      <td>7316133914</td>\n",
       "      <td>16</td>\n",
       "      <td>2011.0</td>\n",
       "      <td>7</td>\n",
       "      <td>11444</td>\n",
       "      <td>2</td>\n",
       "      <td>6</td>\n",
       "      <td>2</td>\n",
       "      <td>30237.0</td>\n",
       "      <td>0</td>\n",
       "      <td>3</td>\n",
       "      <td>3</td>\n",
       "      <td>NaN</td>\n",
       "      <td>8</td>\n",
       "      <td>9</td>\n",
       "      <td>38590</td>\n",
       "    </tr>\n",
       "    <tr>\n",
       "      <th>37</th>\n",
       "      <td>7316130053</td>\n",
       "      <td>16</td>\n",
       "      <td>1992.0</td>\n",
       "      <td>20</td>\n",
       "      <td>10366</td>\n",
       "      <td>0</td>\n",
       "      <td>5</td>\n",
       "      <td>2</td>\n",
       "      <td>192000.0</td>\n",
       "      <td>0</td>\n",
       "      <td>0</td>\n",
       "      <td>0</td>\n",
       "      <td>NaN</td>\n",
       "      <td>NaN</td>\n",
       "      <td>NaN</td>\n",
       "      <td>4500</td>\n",
       "    </tr>\n",
       "    <tr>\n",
       "      <th>38</th>\n",
       "      <td>7315816316</td>\n",
       "      <td>16</td>\n",
       "      <td>2017.0</td>\n",
       "      <td>20</td>\n",
       "      <td>28690</td>\n",
       "      <td>2</td>\n",
       "      <td>5</td>\n",
       "      <td>2</td>\n",
       "      <td>30041.0</td>\n",
       "      <td>0</td>\n",
       "      <td>3</td>\n",
       "      <td>0</td>\n",
       "      <td>NaN</td>\n",
       "      <td>8</td>\n",
       "      <td>10</td>\n",
       "      <td>32990</td>\n",
       "    </tr>\n",
       "    <tr>\n",
       "      <th>39</th>\n",
       "      <td>7315770394</td>\n",
       "      <td>16</td>\n",
       "      <td>2017.0</td>\n",
       "      <td>7</td>\n",
       "      <td>24890</td>\n",
       "      <td>2</td>\n",
       "      <td>5</td>\n",
       "      <td>2</td>\n",
       "      <td>40784.0</td>\n",
       "      <td>0</td>\n",
       "      <td>3</td>\n",
       "      <td>NaN</td>\n",
       "      <td>NaN</td>\n",
       "      <td>9</td>\n",
       "      <td>11</td>\n",
       "      <td>24590</td>\n",
       "    </tr>\n",
       "  </tbody>\n",
       "</table>\n",
       "</div>"
      ],
      "text/plain": [
       "            id  region    year manufacturer  model condition cylinders fuel  \\\n",
       "30  7316743432      16  2017.0           40  27851         2         6    2   \n",
       "31  7316356412      16  2013.0           13  14513         0         5    2   \n",
       "32  7316343444      16  2012.0           14  24472         2         6    2   \n",
       "33  7316304717      16  2016.0            7  24803         2         5    2   \n",
       "34  7316285779      16  2019.0           40  26341         0         5    2   \n",
       "35  7316257769      16  2016.0            7  11008         2         5    2   \n",
       "36  7316133914      16  2011.0            7  11444         2         6    2   \n",
       "37  7316130053      16  1992.0           20  10366         0         5    2   \n",
       "38  7315816316      16  2017.0           20  28690         2         5    2   \n",
       "39  7315770394      16  2017.0            7  24890         2         5    2   \n",
       "\n",
       "    odometer title_status transmission drive size type paint_color  price  \n",
       "30   41124.0            0            3   NaN  NaN    9           9  30990  \n",
       "31  128000.0            0            0     3    1   11           0  15000  \n",
       "32   68696.0            0            3     0  NaN    9           0  27990  \n",
       "33   29499.0            0            3     0  NaN    9          10  34590  \n",
       "34   43000.0            0            0     0  NaN   11           5  35000  \n",
       "35   17302.0            0            3     0  NaN    9           9  29990  \n",
       "36   30237.0            0            3     3  NaN    8           9  38590  \n",
       "37  192000.0            0            0     0  NaN  NaN         NaN   4500  \n",
       "38   30041.0            0            3     0  NaN    8          10  32990  \n",
       "39   40784.0            0            3   NaN  NaN    9          11  24590  "
      ]
     },
     "execution_count": 15,
     "metadata": {},
     "output_type": "execute_result"
    }
   ],
   "source": [
    "df.iloc[30:40]"
   ]
  },
  {
   "cell_type": "code",
   "execution_count": 16,
   "metadata": {},
   "outputs": [],
   "source": [
    "from sklearn.linear_model import BayesianRidge\n",
    "from sklearn.pipeline import make_pipeline\n",
    "from sklearn.impute import SimpleImputer\n",
    "from sklearn.model_selection import cross_val_score\n",
    "import numpy as np"
   ]
  },
  {
   "cell_type": "code",
   "execution_count": 17,
   "metadata": {},
   "outputs": [],
   "source": [
    "check_imputer=deepcopy(df)"
   ]
  },
  {
   "cell_type": "code",
   "execution_count": 18,
   "metadata": {},
   "outputs": [],
   "source": [
    "# Estimate the score on the entire dataset by filling missing values by mean and median\n",
    "\n",
    "br_estimator = BayesianRidge() #base estimator\n",
    "N_SPLITS = 6  #defining the cross-validation splitting strategy\n",
    "\n",
    "score_simple_imputer = pd.DataFrame() #dataframe to store error of imputer\n",
    "\n",
    "#computing MSE for mean and median\n",
    "for strategy in ('mean', 'median'):\n",
    "    X=check_imputer.iloc[:,:-1]\n",
    "    y=check_imputer.iloc[:,-1]\n",
    "    estimator = make_pipeline(SimpleImputer(missing_values=np.nan, strategy=strategy), br_estimator)\n",
    "    score_simple_imputer[strategy] = cross_val_score(estimator, X, y, scoring='neg_mean_squared_error', cv=N_SPLITS)"
   ]
  },
  {
   "cell_type": "code",
   "execution_count": 19,
   "metadata": {},
   "outputs": [
    {
     "data": {
      "text/html": [
       "<div>\n",
       "<style scoped>\n",
       "    .dataframe tbody tr th:only-of-type {\n",
       "        vertical-align: middle;\n",
       "    }\n",
       "\n",
       "    .dataframe tbody tr th {\n",
       "        vertical-align: top;\n",
       "    }\n",
       "\n",
       "    .dataframe thead th {\n",
       "        text-align: right;\n",
       "    }\n",
       "</style>\n",
       "<table border=\"1\" class=\"dataframe\">\n",
       "  <thead>\n",
       "    <tr style=\"text-align: right;\">\n",
       "      <th></th>\n",
       "      <th>mean</th>\n",
       "      <th>median</th>\n",
       "    </tr>\n",
       "  </thead>\n",
       "  <tbody>\n",
       "    <tr>\n",
       "      <th>0</th>\n",
       "      <td>-1.758766e+14</td>\n",
       "      <td>-1.758765e+14</td>\n",
       "    </tr>\n",
       "    <tr>\n",
       "      <th>1</th>\n",
       "      <td>-1.425351e+14</td>\n",
       "      <td>-1.425351e+14</td>\n",
       "    </tr>\n",
       "    <tr>\n",
       "      <th>2</th>\n",
       "      <td>-4.980197e+13</td>\n",
       "      <td>-4.980197e+13</td>\n",
       "    </tr>\n",
       "    <tr>\n",
       "      <th>3</th>\n",
       "      <td>-1.290644e+14</td>\n",
       "      <td>-1.290644e+14</td>\n",
       "    </tr>\n",
       "    <tr>\n",
       "      <th>4</th>\n",
       "      <td>-1.967277e+14</td>\n",
       "      <td>-1.967277e+14</td>\n",
       "    </tr>\n",
       "    <tr>\n",
       "      <th>5</th>\n",
       "      <td>-1.965037e+14</td>\n",
       "      <td>-1.965037e+14</td>\n",
       "    </tr>\n",
       "  </tbody>\n",
       "</table>\n",
       "</div>"
      ],
      "text/plain": [
       "           mean        median\n",
       "0 -1.758766e+14 -1.758765e+14\n",
       "1 -1.425351e+14 -1.425351e+14\n",
       "2 -4.980197e+13 -4.980197e+13\n",
       "3 -1.290644e+14 -1.290644e+14\n",
       "4 -1.967277e+14 -1.967277e+14\n",
       "5 -1.965037e+14 -1.965037e+14"
      ]
     },
     "execution_count": 19,
     "metadata": {},
     "output_type": "execute_result"
    }
   ],
   "source": [
    "score_simple_imputer"
   ]
  },
  {
   "cell_type": "code",
   "execution_count": 20,
   "metadata": {},
   "outputs": [],
   "source": [
    "from sklearn.ensemble import ExtraTreesRegressor\n",
    "from sklearn.tree import DecisionTreeRegressor\n",
    "from sklearn.neighbors import KNeighborsRegressor\n",
    "from sklearn.experimental import enable_iterative_imputer\n",
    "from sklearn.impute import IterativeImputer"
   ]
  },
  {
   "cell_type": "code",
   "execution_count": 21,
   "metadata": {},
   "outputs": [],
   "source": [
    "# Estimate the score on the entire dataset by filling missing values by 4 different iterative imputer\n",
    "\n",
    "# Estimators for IterativeImputer\n",
    "estimators = [BayesianRidge(),\n",
    "              DecisionTreeRegressor(max_features='sqrt', random_state=0),\n",
    "              ExtraTreesRegressor(n_estimators=10, random_state=0),\n",
    "              KNeighborsRegressor(n_neighbors=15)]\n",
    "\n",
    "score_iterative_imputer = pd.DataFrame()"
   ]
  },
  {
   "cell_type": "code",
   "execution_count": 22,
   "metadata": {},
   "outputs": [],
   "source": [
    "# data_x = {\n",
    "#     'ProductID': [101, 102, 103, 104, 105, 106, 107, 108, 109, 110],\n",
    "#     'ProductName': ['Widget A', np.nan, 'Widget C', 'Widget A', 'Widget B',\n",
    "#                     'Widget C', 'Widget A', np.nan, 'Widget C', 'Widget A'],\n",
    "#     'Category': ['Electronics', np.nan, np.nan, 'Electronics', 'Electronics',\n",
    "#                  'Clothing', np.nan, 'Electronics', 'Clothing', 'Electronics'],\n",
    "#     'SalesPrice': [19.99, 29.99, 14.99, np.nan, 29.99, 14.99, np.nan, 29.99, 14.99, 19.99],\n",
    "#     'QuantitySold': [np.nan, 30, 70, np.nan, np.nan, 80, 55, 40, 65, 75]\n",
    "# }\n",
    "\n",
    "# dfx = pd.DataFrame(data_x)\n",
    "# dfx"
   ]
  },
  {
   "cell_type": "code",
   "execution_count": 23,
   "metadata": {},
   "outputs": [
    {
     "name": "stdout",
     "output_type": "stream",
     "text": [
      "Estimating BayesianRidge\n",
      "Estimating DecisionTreeRegressor\n",
      "Estimating ExtraTreesRegressor\n",
      "Estimating KNeighborsRegressor\n"
     ]
    }
   ],
   "source": [
    "for esti in estimators:\n",
    "    print(\"Estimating\",esti.__class__.__name__)\n",
    "    imputer = IterativeImputer(esti)\n",
    "    df_new=check_imputer.copy()\n",
    "\n",
    "    for col in check_imputer.columns:\n",
    "        df_new[col]=imputer.fit_transform(df_new[[col]])\n",
    "    X=df_new.iloc[:,:-1]\n",
    "    y=check_imputer.iloc[:,-1:]\n",
    "\n",
    "    score_iterative_imputer[esti.__class__.__name__]=cross_val_score(esti,X,y,scoring='neg_mean_squared_error',cv=6)"
   ]
  },
  {
   "cell_type": "code",
   "execution_count": 24,
   "metadata": {},
   "outputs": [
    {
     "data": {
      "text/html": [
       "<div>\n",
       "<style scoped>\n",
       "    .dataframe tbody tr th:only-of-type {\n",
       "        vertical-align: middle;\n",
       "    }\n",
       "\n",
       "    .dataframe tbody tr th {\n",
       "        vertical-align: top;\n",
       "    }\n",
       "\n",
       "    .dataframe thead th {\n",
       "        text-align: right;\n",
       "    }\n",
       "</style>\n",
       "<table border=\"1\" class=\"dataframe\">\n",
       "  <thead>\n",
       "    <tr style=\"text-align: right;\">\n",
       "      <th></th>\n",
       "      <th>BayesianRidge</th>\n",
       "      <th>DecisionTreeRegressor</th>\n",
       "      <th>ExtraTreesRegressor</th>\n",
       "      <th>KNeighborsRegressor</th>\n",
       "    </tr>\n",
       "  </thead>\n",
       "  <tbody>\n",
       "    <tr>\n",
       "      <th>0</th>\n",
       "      <td>-1.758766e+14</td>\n",
       "      <td>-1.760424e+14</td>\n",
       "      <td>-2.080080e+14</td>\n",
       "      <td>-1.797418e+14</td>\n",
       "    </tr>\n",
       "    <tr>\n",
       "      <th>1</th>\n",
       "      <td>-1.425351e+14</td>\n",
       "      <td>-5.350984e+14</td>\n",
       "      <td>-1.720020e+14</td>\n",
       "      <td>-1.328450e+14</td>\n",
       "    </tr>\n",
       "    <tr>\n",
       "      <th>2</th>\n",
       "      <td>-4.980196e+13</td>\n",
       "      <td>-1.032393e+14</td>\n",
       "      <td>-8.827691e+13</td>\n",
       "      <td>-6.869161e+13</td>\n",
       "    </tr>\n",
       "    <tr>\n",
       "      <th>3</th>\n",
       "      <td>-1.290644e+14</td>\n",
       "      <td>-1.464032e+14</td>\n",
       "      <td>-1.934478e+14</td>\n",
       "      <td>-1.309985e+14</td>\n",
       "    </tr>\n",
       "    <tr>\n",
       "      <th>4</th>\n",
       "      <td>-1.967277e+14</td>\n",
       "      <td>-1.968658e+14</td>\n",
       "      <td>-2.407799e+14</td>\n",
       "      <td>-2.024961e+14</td>\n",
       "    </tr>\n",
       "    <tr>\n",
       "      <th>5</th>\n",
       "      <td>-1.965037e+14</td>\n",
       "      <td>-5.139734e+14</td>\n",
       "      <td>-2.282923e+14</td>\n",
       "      <td>-2.156728e+14</td>\n",
       "    </tr>\n",
       "  </tbody>\n",
       "</table>\n",
       "</div>"
      ],
      "text/plain": [
       "   BayesianRidge  DecisionTreeRegressor  ExtraTreesRegressor  \\\n",
       "0  -1.758766e+14          -1.760424e+14        -2.080080e+14   \n",
       "1  -1.425351e+14          -5.350984e+14        -1.720020e+14   \n",
       "2  -4.980196e+13          -1.032393e+14        -8.827691e+13   \n",
       "3  -1.290644e+14          -1.464032e+14        -1.934478e+14   \n",
       "4  -1.967277e+14          -1.968658e+14        -2.407799e+14   \n",
       "5  -1.965037e+14          -5.139734e+14        -2.282923e+14   \n",
       "\n",
       "   KNeighborsRegressor  \n",
       "0        -1.797418e+14  \n",
       "1        -1.328450e+14  \n",
       "2        -6.869161e+13  \n",
       "3        -1.309985e+14  \n",
       "4        -2.024961e+14  \n",
       "5        -2.156728e+14  "
      ]
     },
     "execution_count": 24,
     "metadata": {},
     "output_type": "execute_result"
    }
   ],
   "source": [
    "score_iterative_imputer"
   ]
  },
  {
   "cell_type": "code",
   "execution_count": 25,
   "metadata": {},
   "outputs": [],
   "source": [
    "import matplotlib.pyplot as plt"
   ]
  },
  {
   "cell_type": "code",
   "execution_count": 26,
   "metadata": {},
   "outputs": [
    {
     "data": {
      "image/png": "[encoded data removed]",
      "text/plain": [
       "<Figure size 864x432 with 1 Axes>"
      ]
     },
     "metadata": {},
     "output_type": "display_data"
    }
   ],
   "source": [
    "#ploting the graphs of scores each method\n",
    "scores = pd.concat(\n",
    "    [score_simple_imputer, score_iterative_imputer],\n",
    "    keys=['SimpleImputer', 'IterativeImputer'], axis=1\n",
    ")\n",
    "fig, ax = plt.subplots(figsize=(12, 6))\n",
    "means = -scores.mean()\n",
    "errors = scores.std()\n",
    "means.plot.barh(xerr=errors, ax=ax)\n",
    "ax.set_title('MSE with Different Imputation Methods')\n",
    "ax.set_xlabel('MSE (smaller value is better)')\n",
    "ax.set_yticks(np.arange(means.shape[0]))\n",
    "ax.set_yticklabels(means.index.tolist())\n",
    "plt.tight_layout(pad=1)\n",
    "plt.savefig('different-imputations-method',dpi=None)\n",
    "plt.show()"
   ]
  },
  {
   "cell_type": "markdown",
   "metadata": {},
   "source": [
    "### Filling Numerical Values"
   ]
  },
  {
   "cell_type": "code",
   "execution_count": 27,
   "metadata": {},
   "outputs": [
    {
     "data": {
      "text/plain": [
       "year        1205\n",
       "odometer    4400\n",
       "dtype: int64"
      ]
     },
     "execution_count": 27,
     "metadata": {},
     "output_type": "execute_result"
    }
   ],
   "source": [
    "df.isnull().sum()[num_col]"
   ]
  },
  {
   "cell_type": "code",
   "execution_count": 28,
   "metadata": {},
   "outputs": [],
   "source": [
    "df_num=df[num_col]\n",
    "imputer_num=IterativeImputer(estimators[2]) #estimators[2] = ExtraTreesRegressor\n",
    "impute_data=imputer_num.fit_transform(df_num)\n",
    "df[num_col]=impute_data"
   ]
  },
  {
   "cell_type": "code",
   "execution_count": 29,
   "metadata": {},
   "outputs": [
    {
     "data": {
      "text/plain": [
       "year        0\n",
       "odometer    0\n",
       "dtype: int64"
      ]
     },
     "execution_count": 29,
     "metadata": {},
     "output_type": "execute_result"
    }
   ],
   "source": [
    "df.isnull().sum()[num_col]"
   ]
  },
  {
   "cell_type": "code",
   "execution_count": 30,
   "metadata": {},
   "outputs": [
    {
     "data": {
      "text/plain": [
       "region               0\n",
       "manufacturer     17646\n",
       "model             5277\n",
       "condition       174104\n",
       "cylinders       177678\n",
       "fuel              3013\n",
       "title_status      8242\n",
       "transmission      2556\n",
       "drive           130567\n",
       "size            306361\n",
       "type             92858\n",
       "paint_color     130203\n",
       "dtype: int64"
      ]
     },
     "execution_count": 30,
     "metadata": {},
     "output_type": "execute_result"
    }
   ],
   "source": [
    "df.isnull().sum()[cat_cols]"
   ]
  },
  {
   "cell_type": "code",
   "execution_count": 31,
   "metadata": {},
   "outputs": [],
   "source": [
    "# df_xx=deepcopy(df)"
   ]
  },
  {
   "cell_type": "code",
   "execution_count": 32,
   "metadata": {},
   "outputs": [],
   "source": [
    "for col in cat_cols:\n",
    "    imputer = IterativeImputer(BayesianRidge())\n",
    "    df[col]=imputer.fit_transform(df[[col]])"
   ]
  },
  {
   "cell_type": "code",
   "execution_count": 33,
   "metadata": {
    "scrolled": true
   },
   "outputs": [],
   "source": [
    "# data_cat=data[cat_cols]\n",
    "# encoder=preprocessing.LabelEncoder()\n",
    "\n",
    "# #create a for loop to iterate through each column in the data\n",
    "# for columns in cat_cols:\n",
    "#     encode(data_cat[columns])\n",
    "#     impute_data=imputer.fit_transform(data_cat[columns].values.reshape(-1, 1))\n",
    "#     impute_data=impute_data.astype('int64')\n",
    "#     impute_data = pd.DataFrame(impute_data)\n",
    "#     impute_data =encoder.inverse_transform(impute_data.values.reshape(-1, 1))\n",
    "#     data_cat[columns]=impute_data\n",
    "# data[cat_cols]=data_cat"
   ]
  },
  {
   "cell_type": "code",
   "execution_count": 34,
   "metadata": {},
   "outputs": [
    {
     "data": {
      "text/html": [
       "<div>\n",
       "<style scoped>\n",
       "    .dataframe tbody tr th:only-of-type {\n",
       "        vertical-align: middle;\n",
       "    }\n",
       "\n",
       "    .dataframe tbody tr th {\n",
       "        vertical-align: top;\n",
       "    }\n",
       "\n",
       "    .dataframe thead th {\n",
       "        text-align: right;\n",
       "    }\n",
       "</style>\n",
       "<table border=\"1\" class=\"dataframe\">\n",
       "  <thead>\n",
       "    <tr style=\"text-align: right;\">\n",
       "      <th></th>\n",
       "      <th>id</th>\n",
       "      <th>region</th>\n",
       "      <th>year</th>\n",
       "      <th>manufacturer</th>\n",
       "      <th>model</th>\n",
       "      <th>condition</th>\n",
       "      <th>cylinders</th>\n",
       "      <th>fuel</th>\n",
       "      <th>odometer</th>\n",
       "      <th>title_status</th>\n",
       "      <th>transmission</th>\n",
       "      <th>drive</th>\n",
       "      <th>size</th>\n",
       "      <th>type</th>\n",
       "      <th>paint_color</th>\n",
       "      <th>price</th>\n",
       "    </tr>\n",
       "  </thead>\n",
       "  <tbody>\n",
       "    <tr>\n",
       "      <th>0</th>\n",
       "      <td>7222695916</td>\n",
       "      <td>277.0</td>\n",
       "      <td>2018.0</td>\n",
       "      <td>19.052601</td>\n",
       "      <td>16739.145891</td>\n",
       "      <td>1.27918</td>\n",
       "      <td>4.634369</td>\n",
       "      <td>2.083828</td>\n",
       "      <td>39068.572507</td>\n",
       "      <td>0.150834</td>\n",
       "      <td>0.502361</td>\n",
       "      <td>0.952348</td>\n",
       "      <td>1.204731</td>\n",
       "      <td>6.699586</td>\n",
       "      <td>6.192394</td>\n",
       "      <td>6000</td>\n",
       "    </tr>\n",
       "    <tr>\n",
       "      <th>1</th>\n",
       "      <td>7218891961</td>\n",
       "      <td>105.0</td>\n",
       "      <td>2018.0</td>\n",
       "      <td>19.052601</td>\n",
       "      <td>16739.145891</td>\n",
       "      <td>1.27918</td>\n",
       "      <td>4.634369</td>\n",
       "      <td>2.083828</td>\n",
       "      <td>39068.572507</td>\n",
       "      <td>0.150834</td>\n",
       "      <td>0.502361</td>\n",
       "      <td>0.952348</td>\n",
       "      <td>1.204731</td>\n",
       "      <td>6.699586</td>\n",
       "      <td>6.192394</td>\n",
       "      <td>11900</td>\n",
       "    </tr>\n",
       "    <tr>\n",
       "      <th>2</th>\n",
       "      <td>7221797935</td>\n",
       "      <td>111.0</td>\n",
       "      <td>2018.0</td>\n",
       "      <td>19.052601</td>\n",
       "      <td>16739.145891</td>\n",
       "      <td>1.27918</td>\n",
       "      <td>4.634369</td>\n",
       "      <td>2.083828</td>\n",
       "      <td>39068.572507</td>\n",
       "      <td>0.150834</td>\n",
       "      <td>0.502361</td>\n",
       "      <td>0.952348</td>\n",
       "      <td>1.204731</td>\n",
       "      <td>6.699586</td>\n",
       "      <td>6.192394</td>\n",
       "      <td>21000</td>\n",
       "    </tr>\n",
       "    <tr>\n",
       "      <th>3</th>\n",
       "      <td>7222270760</td>\n",
       "      <td>396.0</td>\n",
       "      <td>2018.0</td>\n",
       "      <td>19.052601</td>\n",
       "      <td>16739.145891</td>\n",
       "      <td>1.27918</td>\n",
       "      <td>4.634369</td>\n",
       "      <td>2.083828</td>\n",
       "      <td>39068.572507</td>\n",
       "      <td>0.150834</td>\n",
       "      <td>0.502361</td>\n",
       "      <td>0.952348</td>\n",
       "      <td>1.204731</td>\n",
       "      <td>6.699586</td>\n",
       "      <td>6.192394</td>\n",
       "      <td>1500</td>\n",
       "    </tr>\n",
       "    <tr>\n",
       "      <th>4</th>\n",
       "      <td>7210384030</td>\n",
       "      <td>131.0</td>\n",
       "      <td>2018.0</td>\n",
       "      <td>19.052601</td>\n",
       "      <td>16739.145891</td>\n",
       "      <td>1.27918</td>\n",
       "      <td>4.634369</td>\n",
       "      <td>2.083828</td>\n",
       "      <td>39068.572507</td>\n",
       "      <td>0.150834</td>\n",
       "      <td>0.502361</td>\n",
       "      <td>0.952348</td>\n",
       "      <td>1.204731</td>\n",
       "      <td>6.699586</td>\n",
       "      <td>6.192394</td>\n",
       "      <td>4900</td>\n",
       "    </tr>\n",
       "  </tbody>\n",
       "</table>\n",
       "</div>"
      ],
      "text/plain": [
       "           id  region    year  manufacturer         model  condition  \\\n",
       "0  7222695916   277.0  2018.0     19.052601  16739.145891    1.27918   \n",
       "1  7218891961   105.0  2018.0     19.052601  16739.145891    1.27918   \n",
       "2  7221797935   111.0  2018.0     19.052601  16739.145891    1.27918   \n",
       "3  7222270760   396.0  2018.0     19.052601  16739.145891    1.27918   \n",
       "4  7210384030   131.0  2018.0     19.052601  16739.145891    1.27918   \n",
       "\n",
       "   cylinders      fuel      odometer  title_status  transmission     drive  \\\n",
       "0   4.634369  2.083828  39068.572507      0.150834      0.502361  0.952348   \n",
       "1   4.634369  2.083828  39068.572507      0.150834      0.502361  0.952348   \n",
       "2   4.634369  2.083828  39068.572507      0.150834      0.502361  0.952348   \n",
       "3   4.634369  2.083828  39068.572507      0.150834      0.502361  0.952348   \n",
       "4   4.634369  2.083828  39068.572507      0.150834      0.502361  0.952348   \n",
       "\n",
       "       size      type  paint_color  price  \n",
       "0  1.204731  6.699586     6.192394   6000  \n",
       "1  1.204731  6.699586     6.192394  11900  \n",
       "2  1.204731  6.699586     6.192394  21000  \n",
       "3  1.204731  6.699586     6.192394   1500  \n",
       "4  1.204731  6.699586     6.192394   4900  "
      ]
     },
     "execution_count": 34,
     "metadata": {},
     "output_type": "execute_result"
    }
   ],
   "source": [
    "df.head()"
   ]
  },
  {
   "cell_type": "code",
   "execution_count": 35,
   "metadata": {},
   "outputs": [
    {
     "data": {
      "text/plain": [
       "<matplotlib.axes._subplots.AxesSubplot at 0x7fd2cd91c750>"
      ]
     },
     "execution_count": 35,
     "metadata": {},
     "output_type": "execute_result"
    },
    {
     "data": {
      "image/png": "[encoded data removed]",
      "text/plain": [
       "<Figure size 720x576 with 2 Axes>"
      ]
     },
     "metadata": {},
     "output_type": "display_data"
    }
   ],
   "source": [
    "sns.heatmap(df.isnull(),yticklabels=False,cbar=True,cmap='Accent')"
   ]
  },
  {
   "cell_type": "code",
   "execution_count": 36,
   "metadata": {},
   "outputs": [],
   "source": [
    "ckpt=deepcopy(df)"
   ]
  },
  {
   "cell_type": "code",
   "execution_count": 37,
   "metadata": {},
   "outputs": [],
   "source": [
    "#it will return the range of the variables and the values outside this range will be outliers\n",
    "def outliers(arr,col):\n",
    "    q1,q3=(arr[col].quantile([0.25,0.75]))\n",
    "    IQR=q3-q1\n",
    "    x1=q1-1.5*IQR\n",
    "    x2=q3+1.5*IQR\n",
    "    return (x1,x2)"
   ]
  },
  {
   "cell_type": "code",
   "execution_count": 38,
   "metadata": {},
   "outputs": [
    {
     "data": {
      "image/png": "[encoded data removed]",
      "text/plain": [
       "<Figure size 720x576 with 1 Axes>"
      ]
     },
     "metadata": {},
     "output_type": "display_data"
    }
   ],
   "source": [
    "def min_max_price(df):\n",
    "    r=[]\n",
    "    q1,q3=(df['logprice'].quantile([0.25,0.75]))\n",
    "    r.append(q1-1.5*(q3-q1))\n",
    "    r.append(q3+1.5*(q3-q1))\n",
    "    return (r)\n",
    "df['logprice'] = np.log(df['price'])\n",
    "x=df['logprice']\n",
    "price_range=list(range(0,int(max(df['logprice']))+1))\n",
    "red_square = dict(markerfacecolor='g', marker='s')\n",
    "plt.boxplot(x, vert=False)\n",
    "plt.xticks(price_range)\n",
    "plt.text(min_max_price(df)[0]-0.3,1.05,str(round(min_max_price(df)[0],2)))\n",
    "plt.text(min_max_price(df)[1]-0.5,1.05,str(round(min_max_price(df)[1],2)))\n",
    "plt.title(\"Figure 1: Box Plot of Price\")\n",
    "# plt.savefig('graph-boxplot-price.jpg')\n",
    "plt.show()"
   ]
  },
  {
   "cell_type": "code",
   "execution_count": 39,
   "metadata": {},
   "outputs": [
    {
     "data": {
      "image/png": "[encoded data removed]",
      "text/plain": [
       "<Figure size 720x576 with 1 Axes>"
      ]
     },
     "metadata": {},
     "output_type": "display_data"
    }
   ],
   "source": [
    "fig, ax1 = plt.subplots()\n",
    "ax1.set_title('Figure 2: Box Plot of Odometer')\n",
    "ax1.boxplot(df['odometer'], vert=False, flierprops=red_square)\n",
    "plt.savefig('graph-boxplot-odometer.jpg')\n",
    "plt.show()"
   ]
  },
  {
   "cell_type": "code",
   "execution_count": 40,
   "metadata": {},
   "outputs": [
    {
     "data": {
      "image/png": "[encoded data removed]",
      "text/plain": [
       "<Figure size 864x360 with 2 Axes>"
      ]
     },
     "metadata": {},
     "output_type": "display_data"
    }
   ],
   "source": [
    "fig,(ax1,ax2)=plt.subplots(ncols=2,figsize=(12,5))\n",
    "\n",
    "#ploting boxplot\n",
    "o1,o2=outliers(df,'year')\n",
    "ax1.boxplot(sorted(df['year']), vert=False, flierprops=red_square)\n",
    "ax1.set_xlabel(\"Years\")\n",
    "ax1.set_title(\"Figure 3: Box Plot of Year\")\n",
    "ax1.text(o1-8,1.05,str(round(o1,2)))\n",
    "\n",
    "#ploting histogram\n",
    "hist,bins=np.histogram(df['year'])\n",
    "n, bins, patches = ax2.hist(x=df['year'], bins=bins)\n",
    "ax2.set_xlabel(\"Years\")\n",
    "ax2.set_title(\"Figure 4: Histogram of Year\")\n",
    "for i in range(len(n)):\n",
    "    if(n[i]>2000):\n",
    "        ax2.text(bins[i],n[i]+3000,str(n[i]))\n",
    "\n",
    "plt.tight_layout()\n",
    "plt.savefig('graph-barplot-histogram-year.jpg',dpi=1200)\n",
    "plt.show()"
   ]
  },
  {
   "cell_type": "code",
   "execution_count": 41,
   "metadata": {},
   "outputs": [
    {
     "name": "stdout",
     "output_type": "stream",
     "text": [
      "IQR of logprice = 6.430225879298414 12.436843880886139\n",
      "IQR of odometer = -107840.0 282304.0\n",
      "IQR of year = 1994.5 2030.5\n"
     ]
    }
   ],
   "source": [
    "#removing outliers \n",
    "df_new=df.copy()\n",
    "out=np.array(['logprice','odometer','year'])\n",
    "for col in out:\n",
    "    o1,o2=outliers(df_new,col)\n",
    "    df_new=df_new[(df_new[col]>=o1) & (df_new[col]<=o2)]\n",
    "    print('IQR of',col,'=',o1,o2)\n",
    "df_new=df_new[df_new['price']!=0]\n",
    "df_new.drop('logprice',axis=1,inplace=True)"
   ]
  },
  {
   "cell_type": "code",
   "execution_count": 42,
   "metadata": {},
   "outputs": [
    {
     "data": {
      "text/html": [
       "<div>\n",
       "<style scoped>\n",
       "    .dataframe tbody tr th:only-of-type {\n",
       "        vertical-align: middle;\n",
       "    }\n",
       "\n",
       "    .dataframe tbody tr th {\n",
       "        vertical-align: top;\n",
       "    }\n",
       "\n",
       "    .dataframe thead th {\n",
       "        text-align: right;\n",
       "    }\n",
       "</style>\n",
       "<table border=\"1\" class=\"dataframe\">\n",
       "  <thead>\n",
       "    <tr style=\"text-align: right;\">\n",
       "      <th></th>\n",
       "      <th>id</th>\n",
       "      <th>region</th>\n",
       "      <th>year</th>\n",
       "      <th>manufacturer</th>\n",
       "      <th>model</th>\n",
       "      <th>condition</th>\n",
       "      <th>cylinders</th>\n",
       "      <th>fuel</th>\n",
       "      <th>odometer</th>\n",
       "      <th>title_status</th>\n",
       "      <th>transmission</th>\n",
       "      <th>drive</th>\n",
       "      <th>size</th>\n",
       "      <th>type</th>\n",
       "      <th>paint_color</th>\n",
       "      <th>price</th>\n",
       "    </tr>\n",
       "  </thead>\n",
       "  <tbody>\n",
       "    <tr>\n",
       "      <th>0</th>\n",
       "      <td>7222695916</td>\n",
       "      <td>277.0</td>\n",
       "      <td>2018.0</td>\n",
       "      <td>19.052601</td>\n",
       "      <td>16739.145891</td>\n",
       "      <td>1.27918</td>\n",
       "      <td>4.634369</td>\n",
       "      <td>2.083828</td>\n",
       "      <td>39068.572507</td>\n",
       "      <td>0.150834</td>\n",
       "      <td>0.502361</td>\n",
       "      <td>0.952348</td>\n",
       "      <td>1.204731</td>\n",
       "      <td>6.699586</td>\n",
       "      <td>6.192394</td>\n",
       "      <td>6000</td>\n",
       "    </tr>\n",
       "    <tr>\n",
       "      <th>1</th>\n",
       "      <td>7218891961</td>\n",
       "      <td>105.0</td>\n",
       "      <td>2018.0</td>\n",
       "      <td>19.052601</td>\n",
       "      <td>16739.145891</td>\n",
       "      <td>1.27918</td>\n",
       "      <td>4.634369</td>\n",
       "      <td>2.083828</td>\n",
       "      <td>39068.572507</td>\n",
       "      <td>0.150834</td>\n",
       "      <td>0.502361</td>\n",
       "      <td>0.952348</td>\n",
       "      <td>1.204731</td>\n",
       "      <td>6.699586</td>\n",
       "      <td>6.192394</td>\n",
       "      <td>11900</td>\n",
       "    </tr>\n",
       "    <tr>\n",
       "      <th>2</th>\n",
       "      <td>7221797935</td>\n",
       "      <td>111.0</td>\n",
       "      <td>2018.0</td>\n",
       "      <td>19.052601</td>\n",
       "      <td>16739.145891</td>\n",
       "      <td>1.27918</td>\n",
       "      <td>4.634369</td>\n",
       "      <td>2.083828</td>\n",
       "      <td>39068.572507</td>\n",
       "      <td>0.150834</td>\n",
       "      <td>0.502361</td>\n",
       "      <td>0.952348</td>\n",
       "      <td>1.204731</td>\n",
       "      <td>6.699586</td>\n",
       "      <td>6.192394</td>\n",
       "      <td>21000</td>\n",
       "    </tr>\n",
       "    <tr>\n",
       "      <th>3</th>\n",
       "      <td>7222270760</td>\n",
       "      <td>396.0</td>\n",
       "      <td>2018.0</td>\n",
       "      <td>19.052601</td>\n",
       "      <td>16739.145891</td>\n",
       "      <td>1.27918</td>\n",
       "      <td>4.634369</td>\n",
       "      <td>2.083828</td>\n",
       "      <td>39068.572507</td>\n",
       "      <td>0.150834</td>\n",
       "      <td>0.502361</td>\n",
       "      <td>0.952348</td>\n",
       "      <td>1.204731</td>\n",
       "      <td>6.699586</td>\n",
       "      <td>6.192394</td>\n",
       "      <td>1500</td>\n",
       "    </tr>\n",
       "    <tr>\n",
       "      <th>4</th>\n",
       "      <td>7210384030</td>\n",
       "      <td>131.0</td>\n",
       "      <td>2018.0</td>\n",
       "      <td>19.052601</td>\n",
       "      <td>16739.145891</td>\n",
       "      <td>1.27918</td>\n",
       "      <td>4.634369</td>\n",
       "      <td>2.083828</td>\n",
       "      <td>39068.572507</td>\n",
       "      <td>0.150834</td>\n",
       "      <td>0.502361</td>\n",
       "      <td>0.952348</td>\n",
       "      <td>1.204731</td>\n",
       "      <td>6.699586</td>\n",
       "      <td>6.192394</td>\n",
       "      <td>4900</td>\n",
       "    </tr>\n",
       "  </tbody>\n",
       "</table>\n",
       "</div>"
      ],
      "text/plain": [
       "           id  region    year  manufacturer         model  condition  \\\n",
       "0  7222695916   277.0  2018.0     19.052601  16739.145891    1.27918   \n",
       "1  7218891961   105.0  2018.0     19.052601  16739.145891    1.27918   \n",
       "2  7221797935   111.0  2018.0     19.052601  16739.145891    1.27918   \n",
       "3  7222270760   396.0  2018.0     19.052601  16739.145891    1.27918   \n",
       "4  7210384030   131.0  2018.0     19.052601  16739.145891    1.27918   \n",
       "\n",
       "   cylinders      fuel      odometer  title_status  transmission     drive  \\\n",
       "0   4.634369  2.083828  39068.572507      0.150834      0.502361  0.952348   \n",
       "1   4.634369  2.083828  39068.572507      0.150834      0.502361  0.952348   \n",
       "2   4.634369  2.083828  39068.572507      0.150834      0.502361  0.952348   \n",
       "3   4.634369  2.083828  39068.572507      0.150834      0.502361  0.952348   \n",
       "4   4.634369  2.083828  39068.572507      0.150834      0.502361  0.952348   \n",
       "\n",
       "       size      type  paint_color  price  \n",
       "0  1.204731  6.699586     6.192394   6000  \n",
       "1  1.204731  6.699586     6.192394  11900  \n",
       "2  1.204731  6.699586     6.192394  21000  \n",
       "3  1.204731  6.699586     6.192394   1500  \n",
       "4  1.204731  6.699586     6.192394   4900  "
      ]
     },
     "execution_count": 42,
     "metadata": {},
     "output_type": "execute_result"
    }
   ],
   "source": [
    "df_new.head()"
   ]
  },
  {
   "cell_type": "code",
   "execution_count": 43,
   "metadata": {},
   "outputs": [
    {
     "name": "stdout",
     "output_type": "stream",
     "text": [
      "Shape before process= (426880, 17)\n",
      "Shape After process= (364432, 16)\n",
      "Total 62448 rows and 1 cols removed\n"
     ]
    }
   ],
   "source": [
    "print(\"Shape before process=\",df.shape)\n",
    "print(\"Shape After process=\",df_new.shape)\n",
    "diff=df.shape[0]-df_new.shape[0]\n",
    "print(\"Total {} rows and {} cols removed\".format(diff,df.shape[1]-df_new.shape[1]))\n",
    "df_new.to_csv(\"vehiclesFinal.csv\",index=False)"
   ]
  },
  {
   "cell_type": "code",
   "execution_count": 118,
   "metadata": {},
   "outputs": [
    {
     "data": {
      "text/html": [
       "<div>\n",
       "<style scoped>\n",
       "    .dataframe tbody tr th:only-of-type {\n",
       "        vertical-align: middle;\n",
       "    }\n",
       "\n",
       "    .dataframe tbody tr th {\n",
       "        vertical-align: top;\n",
       "    }\n",
       "\n",
       "    .dataframe thead th {\n",
       "        text-align: right;\n",
       "    }\n",
       "</style>\n",
       "<table border=\"1\" class=\"dataframe\">\n",
       "  <thead>\n",
       "    <tr style=\"text-align: right;\">\n",
       "      <th></th>\n",
       "      <th>region</th>\n",
       "      <th>year</th>\n",
       "      <th>manufacturer</th>\n",
       "      <th>model</th>\n",
       "      <th>condition</th>\n",
       "      <th>cylinders</th>\n",
       "      <th>fuel</th>\n",
       "      <th>odometer</th>\n",
       "      <th>title_status</th>\n",
       "      <th>transmission</th>\n",
       "      <th>drive</th>\n",
       "      <th>size</th>\n",
       "      <th>type</th>\n",
       "      <th>paint_color</th>\n",
       "      <th>price</th>\n",
       "    </tr>\n",
       "  </thead>\n",
       "  <tbody>\n",
       "    <tr>\n",
       "      <th>0</th>\n",
       "      <td>277.0</td>\n",
       "      <td>2018.0</td>\n",
       "      <td>19.052601</td>\n",
       "      <td>16739.145891</td>\n",
       "      <td>1.27918</td>\n",
       "      <td>4.634369</td>\n",
       "      <td>2.083828</td>\n",
       "      <td>39068.572507</td>\n",
       "      <td>0.150834</td>\n",
       "      <td>0.502361</td>\n",
       "      <td>0.952348</td>\n",
       "      <td>1.204731</td>\n",
       "      <td>6.699586</td>\n",
       "      <td>6.192394</td>\n",
       "      <td>6000</td>\n",
       "    </tr>\n",
       "    <tr>\n",
       "      <th>1</th>\n",
       "      <td>105.0</td>\n",
       "      <td>2018.0</td>\n",
       "      <td>19.052601</td>\n",
       "      <td>16739.145891</td>\n",
       "      <td>1.27918</td>\n",
       "      <td>4.634369</td>\n",
       "      <td>2.083828</td>\n",
       "      <td>39068.572507</td>\n",
       "      <td>0.150834</td>\n",
       "      <td>0.502361</td>\n",
       "      <td>0.952348</td>\n",
       "      <td>1.204731</td>\n",
       "      <td>6.699586</td>\n",
       "      <td>6.192394</td>\n",
       "      <td>11900</td>\n",
       "    </tr>\n",
       "    <tr>\n",
       "      <th>2</th>\n",
       "      <td>111.0</td>\n",
       "      <td>2018.0</td>\n",
       "      <td>19.052601</td>\n",
       "      <td>16739.145891</td>\n",
       "      <td>1.27918</td>\n",
       "      <td>4.634369</td>\n",
       "      <td>2.083828</td>\n",
       "      <td>39068.572507</td>\n",
       "      <td>0.150834</td>\n",
       "      <td>0.502361</td>\n",
       "      <td>0.952348</td>\n",
       "      <td>1.204731</td>\n",
       "      <td>6.699586</td>\n",
       "      <td>6.192394</td>\n",
       "      <td>21000</td>\n",
       "    </tr>\n",
       "    <tr>\n",
       "      <th>3</th>\n",
       "      <td>396.0</td>\n",
       "      <td>2018.0</td>\n",
       "      <td>19.052601</td>\n",
       "      <td>16739.145891</td>\n",
       "      <td>1.27918</td>\n",
       "      <td>4.634369</td>\n",
       "      <td>2.083828</td>\n",
       "      <td>39068.572507</td>\n",
       "      <td>0.150834</td>\n",
       "      <td>0.502361</td>\n",
       "      <td>0.952348</td>\n",
       "      <td>1.204731</td>\n",
       "      <td>6.699586</td>\n",
       "      <td>6.192394</td>\n",
       "      <td>1500</td>\n",
       "    </tr>\n",
       "    <tr>\n",
       "      <th>4</th>\n",
       "      <td>131.0</td>\n",
       "      <td>2018.0</td>\n",
       "      <td>19.052601</td>\n",
       "      <td>16739.145891</td>\n",
       "      <td>1.27918</td>\n",
       "      <td>4.634369</td>\n",
       "      <td>2.083828</td>\n",
       "      <td>39068.572507</td>\n",
       "      <td>0.150834</td>\n",
       "      <td>0.502361</td>\n",
       "      <td>0.952348</td>\n",
       "      <td>1.204731</td>\n",
       "      <td>6.699586</td>\n",
       "      <td>6.192394</td>\n",
       "      <td>4900</td>\n",
       "    </tr>\n",
       "  </tbody>\n",
       "</table>\n",
       "</div>"
      ],
      "text/plain": [
       "   region    year  manufacturer         model  condition  cylinders      fuel  \\\n",
       "0   277.0  2018.0     19.052601  16739.145891    1.27918   4.634369  2.083828   \n",
       "1   105.0  2018.0     19.052601  16739.145891    1.27918   4.634369  2.083828   \n",
       "2   111.0  2018.0     19.052601  16739.145891    1.27918   4.634369  2.083828   \n",
       "3   396.0  2018.0     19.052601  16739.145891    1.27918   4.634369  2.083828   \n",
       "4   131.0  2018.0     19.052601  16739.145891    1.27918   4.634369  2.083828   \n",
       "\n",
       "       odometer  title_status  transmission     drive      size      type  \\\n",
       "0  39068.572507      0.150834      0.502361  0.952348  1.204731  6.699586   \n",
       "1  39068.572507      0.150834      0.502361  0.952348  1.204731  6.699586   \n",
       "2  39068.572507      0.150834      0.502361  0.952348  1.204731  6.699586   \n",
       "3  39068.572507      0.150834      0.502361  0.952348  1.204731  6.699586   \n",
       "4  39068.572507      0.150834      0.502361  0.952348  1.204731  6.699586   \n",
       "\n",
       "   paint_color  price  \n",
       "0     6.192394   6000  \n",
       "1     6.192394  11900  \n",
       "2     6.192394  21000  \n",
       "3     6.192394   1500  \n",
       "4     6.192394   4900  "
      ]
     },
     "execution_count": 118,
     "metadata": {},
     "output_type": "execute_result"
    }
   ],
   "source": [
    "#Loading Dataframe\n",
    "\n",
    "#df=pd.read_csv(\"vehiclesFinal2.csv\")\n",
    "df=pd.read_csv(\"vehiclesFinal.csv\")\n",
    "#df=df.drop('Unnamed: 0',axis=1)\n",
    "df=df.drop('id',axis=1)\n",
    "\n",
    "df2=df.copy()\n",
    "df.head()"
   ]
  },
  {
   "cell_type": "code",
   "execution_count": 119,
   "metadata": {},
   "outputs": [],
   "source": [
    "from sklearn import preprocessing"
   ]
  },
  {
   "cell_type": "code",
   "execution_count": 120,
   "metadata": {},
   "outputs": [
    {
     "data": {
      "text/html": [
       "<div>\n",
       "<style scoped>\n",
       "    .dataframe tbody tr th:only-of-type {\n",
       "        vertical-align: middle;\n",
       "    }\n",
       "\n",
       "    .dataframe tbody tr th {\n",
       "        vertical-align: top;\n",
       "    }\n",
       "\n",
       "    .dataframe thead th {\n",
       "        text-align: right;\n",
       "    }\n",
       "</style>\n",
       "<table border=\"1\" class=\"dataframe\">\n",
       "  <thead>\n",
       "    <tr style=\"text-align: right;\">\n",
       "      <th></th>\n",
       "      <th>region</th>\n",
       "      <th>year</th>\n",
       "      <th>manufacturer</th>\n",
       "      <th>model</th>\n",
       "      <th>condition</th>\n",
       "      <th>cylinders</th>\n",
       "      <th>fuel</th>\n",
       "      <th>odometer</th>\n",
       "      <th>title_status</th>\n",
       "      <th>transmission</th>\n",
       "      <th>drive</th>\n",
       "      <th>size</th>\n",
       "      <th>type</th>\n",
       "      <th>paint_color</th>\n",
       "      <th>price</th>\n",
       "    </tr>\n",
       "  </thead>\n",
       "  <tbody>\n",
       "    <tr>\n",
       "      <th>0</th>\n",
       "      <td>277</td>\n",
       "      <td>2018.0</td>\n",
       "      <td>19</td>\n",
       "      <td>12940</td>\n",
       "      <td>2</td>\n",
       "      <td>5</td>\n",
       "      <td>3</td>\n",
       "      <td>39068.572507</td>\n",
       "      <td>1</td>\n",
       "      <td>1</td>\n",
       "      <td>1</td>\n",
       "      <td>2</td>\n",
       "      <td>6</td>\n",
       "      <td>6</td>\n",
       "      <td>6000</td>\n",
       "    </tr>\n",
       "    <tr>\n",
       "      <th>1</th>\n",
       "      <td>105</td>\n",
       "      <td>2018.0</td>\n",
       "      <td>19</td>\n",
       "      <td>12940</td>\n",
       "      <td>2</td>\n",
       "      <td>5</td>\n",
       "      <td>3</td>\n",
       "      <td>39068.572507</td>\n",
       "      <td>1</td>\n",
       "      <td>1</td>\n",
       "      <td>1</td>\n",
       "      <td>2</td>\n",
       "      <td>6</td>\n",
       "      <td>6</td>\n",
       "      <td>11900</td>\n",
       "    </tr>\n",
       "  </tbody>\n",
       "</table>\n",
       "</div>"
      ],
      "text/plain": [
       "   region    year  manufacturer  model  condition  cylinders  fuel  \\\n",
       "0     277  2018.0            19  12940          2          5     3   \n",
       "1     105  2018.0            19  12940          2          5     3   \n",
       "\n",
       "       odometer  title_status  transmission  drive  size  type  paint_color  \\\n",
       "0  39068.572507             1             1      1     2     6            6   \n",
       "1  39068.572507             1             1      1     2     6            6   \n",
       "\n",
       "   price  \n",
       "0   6000  \n",
       "1  11900  "
      ]
     },
     "execution_count": 120,
     "metadata": {},
     "output_type": "execute_result"
    }
   ],
   "source": [
    "#defining numerical and categorical values\n",
    "\n",
    "num_col=['year','odometer']\n",
    "cat_cols=['region','manufacturer','model','condition','cylinders','fuel','title_status','transmission','drive','size','type','paint_color']\n",
    "\n",
    "le=preprocessing.LabelEncoder()\n",
    "df[cat_cols]=df[cat_cols].apply(le.fit_transform)\n",
    "df.head(2)"
   ]
  },
  {
   "cell_type": "code",
   "execution_count": 121,
   "metadata": {},
   "outputs": [],
   "source": [
    "from sklearn.preprocessing import StandardScaler\n",
    "from sklearn.preprocessing import MinMaxScaler"
   ]
  },
  {
   "cell_type": "code",
   "execution_count": 122,
   "metadata": {},
   "outputs": [],
   "source": [
    "df['price'] = np.log(df['price'])\n",
    "\n",
    "#scaling target variable\n",
    "q1,q3=(df['price'].quantile([0.25,0.75]))\n",
    "o1=q1-1.5*(q3-q1)\n",
    "o2=q3+1.5*(q3-q1)\n",
    "df=df[(df.price>=o1) & (df.price<=o2)]\n",
    "\n",
    "#scaling numerical data\n",
    "\n",
    "norm = StandardScaler()\n",
    "\n",
    "df[['odometer','year','model','region']] = norm.fit_transform(np.array(df[['odometer','year','model','region']]))"
   ]
  },
  {
   "cell_type": "code",
   "execution_count": 123,
   "metadata": {},
   "outputs": [
    {
     "data": {
      "text/html": [
       "<div>\n",
       "<style scoped>\n",
       "    .dataframe tbody tr th:only-of-type {\n",
       "        vertical-align: middle;\n",
       "    }\n",
       "\n",
       "    .dataframe tbody tr th {\n",
       "        vertical-align: top;\n",
       "    }\n",
       "\n",
       "    .dataframe thead th {\n",
       "        text-align: right;\n",
       "    }\n",
       "</style>\n",
       "<table border=\"1\" class=\"dataframe\">\n",
       "  <thead>\n",
       "    <tr style=\"text-align: right;\">\n",
       "      <th></th>\n",
       "      <th>region</th>\n",
       "      <th>year</th>\n",
       "      <th>manufacturer</th>\n",
       "      <th>model</th>\n",
       "      <th>condition</th>\n",
       "      <th>cylinders</th>\n",
       "      <th>fuel</th>\n",
       "      <th>odometer</th>\n",
       "      <th>title_status</th>\n",
       "      <th>transmission</th>\n",
       "      <th>drive</th>\n",
       "      <th>size</th>\n",
       "      <th>type</th>\n",
       "      <th>paint_color</th>\n",
       "      <th>price</th>\n",
       "    </tr>\n",
       "  </thead>\n",
       "  <tbody>\n",
       "    <tr>\n",
       "      <th>0</th>\n",
       "      <td>0.702942</td>\n",
       "      <td>0.999279</td>\n",
       "      <td>19</td>\n",
       "      <td>-0.025631</td>\n",
       "      <td>2</td>\n",
       "      <td>5</td>\n",
       "      <td>3</td>\n",
       "      <td>-0.862297</td>\n",
       "      <td>1</td>\n",
       "      <td>1</td>\n",
       "      <td>1</td>\n",
       "      <td>2</td>\n",
       "      <td>6</td>\n",
       "      <td>6</td>\n",
       "      <td>8.699515</td>\n",
       "    </tr>\n",
       "    <tr>\n",
       "      <th>1</th>\n",
       "      <td>-0.751873</td>\n",
       "      <td>0.999279</td>\n",
       "      <td>19</td>\n",
       "      <td>-0.025631</td>\n",
       "      <td>2</td>\n",
       "      <td>5</td>\n",
       "      <td>3</td>\n",
       "      <td>-0.862297</td>\n",
       "      <td>1</td>\n",
       "      <td>1</td>\n",
       "      <td>1</td>\n",
       "      <td>2</td>\n",
       "      <td>6</td>\n",
       "      <td>6</td>\n",
       "      <td>9.384294</td>\n",
       "    </tr>\n",
       "    <tr>\n",
       "      <th>2</th>\n",
       "      <td>-0.701124</td>\n",
       "      <td>0.999279</td>\n",
       "      <td>19</td>\n",
       "      <td>-0.025631</td>\n",
       "      <td>2</td>\n",
       "      <td>5</td>\n",
       "      <td>3</td>\n",
       "      <td>-0.862297</td>\n",
       "      <td>1</td>\n",
       "      <td>1</td>\n",
       "      <td>1</td>\n",
       "      <td>2</td>\n",
       "      <td>6</td>\n",
       "      <td>6</td>\n",
       "      <td>9.952278</td>\n",
       "    </tr>\n",
       "    <tr>\n",
       "      <th>3</th>\n",
       "      <td>1.709470</td>\n",
       "      <td>0.999279</td>\n",
       "      <td>19</td>\n",
       "      <td>-0.025631</td>\n",
       "      <td>2</td>\n",
       "      <td>5</td>\n",
       "      <td>3</td>\n",
       "      <td>-0.862297</td>\n",
       "      <td>1</td>\n",
       "      <td>1</td>\n",
       "      <td>1</td>\n",
       "      <td>2</td>\n",
       "      <td>6</td>\n",
       "      <td>6</td>\n",
       "      <td>7.313220</td>\n",
       "    </tr>\n",
       "    <tr>\n",
       "      <th>4</th>\n",
       "      <td>-0.531959</td>\n",
       "      <td>0.999279</td>\n",
       "      <td>19</td>\n",
       "      <td>-0.025631</td>\n",
       "      <td>2</td>\n",
       "      <td>5</td>\n",
       "      <td>3</td>\n",
       "      <td>-0.862297</td>\n",
       "      <td>1</td>\n",
       "      <td>1</td>\n",
       "      <td>1</td>\n",
       "      <td>2</td>\n",
       "      <td>6</td>\n",
       "      <td>6</td>\n",
       "      <td>8.496990</td>\n",
       "    </tr>\n",
       "  </tbody>\n",
       "</table>\n",
       "</div>"
      ],
      "text/plain": [
       "     region      year  manufacturer     model  condition  cylinders  fuel  \\\n",
       "0  0.702942  0.999279            19 -0.025631          2          5     3   \n",
       "1 -0.751873  0.999279            19 -0.025631          2          5     3   \n",
       "2 -0.701124  0.999279            19 -0.025631          2          5     3   \n",
       "3  1.709470  0.999279            19 -0.025631          2          5     3   \n",
       "4 -0.531959  0.999279            19 -0.025631          2          5     3   \n",
       "\n",
       "   odometer  title_status  transmission  drive  size  type  paint_color  \\\n",
       "0 -0.862297             1             1      1     2     6            6   \n",
       "1 -0.862297             1             1      1     2     6            6   \n",
       "2 -0.862297             1             1      1     2     6            6   \n",
       "3 -0.862297             1             1      1     2     6            6   \n",
       "4 -0.862297             1             1      1     2     6            6   \n",
       "\n",
       "      price  \n",
       "0  8.699515  \n",
       "1  9.384294  \n",
       "2  9.952278  \n",
       "3  7.313220  \n",
       "4  8.496990  "
      ]
     },
     "execution_count": 123,
     "metadata": {},
     "output_type": "execute_result"
    }
   ],
   "source": [
    "df.head()"
   ]
  },
  {
   "cell_type": "code",
   "execution_count": 124,
   "metadata": {},
   "outputs": [
    {
     "name": "stdout",
     "output_type": "stream",
     "text": [
      "<class 'pandas.core.frame.DataFrame'>\n",
      "Int64Index: 360697 entries, 0 to 364431\n",
      "Data columns (total 15 columns):\n",
      "region          360697 non-null float64\n",
      "year            360697 non-null float64\n",
      "manufacturer    360697 non-null int64\n",
      "model           360697 non-null float64\n",
      "condition       360697 non-null int64\n",
      "cylinders       360697 non-null int64\n",
      "fuel            360697 non-null int64\n",
      "odometer        360697 non-null float64\n",
      "title_status    360697 non-null int64\n",
      "transmission    360697 non-null int64\n",
      "drive           360697 non-null int64\n",
      "size            360697 non-null int64\n",
      "type            360697 non-null int64\n",
      "paint_color     360697 non-null int64\n",
      "price           360697 non-null float64\n",
      "dtypes: float64(5), int64(10)\n",
      "memory usage: 44.0 MB\n"
     ]
    }
   ],
   "source": [
    "df.info()"
   ]
  },
  {
   "cell_type": "markdown",
   "metadata": {},
   "source": [
    "## Data Modeling\n",
    "\n",
    "We experiment with various models to find out the most suitable one for our data.\n",
    "1. `Linear Regression`\n",
    "\n",
    "    **Mean Squared Logarithmic Error (MSLE): 0.002379**\n",
    "    \n",
    "    **Mean Squared Error (MSE): 0.25030**\n",
    "    \n",
    "    **R-squared (R2) Score: 0.62935**\n",
    "\n",
    "<br>\n",
    "\n",
    "2. `Ridge Regression`\n",
    "\n",
    "    **Mean Squared Logarithmic Error (MSLE): 0.002379**\n",
    "    \n",
    "    **Mean Squared Error (MSE): 0.25030**\n",
    "    \n",
    "    **R-squared (R2) Score: 0.62935** \n",
    "    \n",
    "<br>\n",
    "\n",
    "3. `Random Forest Regressor`\n",
    "\n",
    "    **Mean Squared Logarithmic Error (MSLE): 0.00060**\n",
    "    \n",
    "    **Mean Squared Error (MSE): 0.05911**\n",
    "    \n",
    "    **R-squared (R2) Score: 0.91245**\n"
   ]
  },
  {
   "cell_type": "code",
   "execution_count": 125,
   "metadata": {},
   "outputs": [],
   "source": [
    "y=df.price\n",
    "X=df.drop(['price'], axis=1)\n",
    "\n",
    "from sklearn.model_selection import train_test_split\n",
    "X_train, X_test, y_train, y_test = train_test_split(X, y, test_size=0.1, random_state=42)"
   ]
  },
  {
   "cell_type": "code",
   "execution_count": 126,
   "metadata": {},
   "outputs": [
    {
     "data": {
      "text/plain": [
       "((324627, 14), (36070, 14))"
      ]
     },
     "execution_count": 126,
     "metadata": {},
     "output_type": "execute_result"
    }
   ],
   "source": [
    "X_train.shape, X_test.shape"
   ]
  },
  {
   "cell_type": "code",
   "execution_count": 127,
   "metadata": {},
   "outputs": [
    {
     "data": {
      "text/plain": [
       "(0, 0)"
      ]
     },
     "execution_count": 127,
     "metadata": {},
     "output_type": "execute_result"
    }
   ],
   "source": [
    "y_train.isna().sum(), y_test.isna().sum()"
   ]
  },
  {
   "cell_type": "code",
   "execution_count": 128,
   "metadata": {},
   "outputs": [],
   "source": [
    "#libraries for models\n",
    "from sklearn.linear_model import LinearRegression\n",
    "\n",
    "from sklearn.linear_model import Ridge\n",
    "from sklearn.linear_model import LassoCV,RidgeCV\n",
    "# from yellowbrick.regressor import AlphaSelection\n",
    "\n",
    "from sklearn.linear_model import Lasso\n",
    "from sklearn.neighbors import KNeighborsRegressor\n",
    "from sklearn.ensemble import RandomForestRegressor\n",
    "from sklearn.ensemble import BaggingRegressor\n",
    "from sklearn.tree import DecisionTreeRegressor\n",
    "from sklearn.svm import SVR\n",
    "from sklearn.ensemble import AdaBoostRegressor"
   ]
  },
  {
   "cell_type": "code",
   "execution_count": 129,
   "metadata": {},
   "outputs": [],
   "source": [
    "from sklearn.metrics import mean_squared_log_error,r2_score,mean_squared_error"
   ]
  },
  {
   "cell_type": "markdown",
   "metadata": {},
   "source": [
    "### Linear Regression"
   ]
  },
  {
   "cell_type": "code",
   "execution_count": 130,
   "metadata": {},
   "outputs": [],
   "source": [
    "#fitting model\n",
    "LR=LinearRegression()\n",
    "LR.fit(X_train,y_train)\n",
    "y_pred_lr=LR.predict(X_test)"
   ]
  },
  {
   "cell_type": "code",
   "execution_count": 132,
   "metadata": {},
   "outputs": [
    {
     "name": "stdout",
     "output_type": "stream",
     "text": [
      "Coefficients: \n",
      " [-0.00093476  0.41715101 -0.00052698 -0.009039   -0.00943198  0.15403314\n",
      " -0.08412825 -0.24899497 -0.07134979  0.03093622 -0.1040921  -0.00318558\n",
      "  0.00582484  0.00577594]\n",
      "Mean Squared Logarithmic Error (MSLE): 0.0023792016603665\n",
      "Mean Squared Error (MSE): 0.2503026246181217\n",
      "R-squared (R2) Score: 0.6293519852888432\n"
     ]
    }
   ],
   "source": [
    "print('Coefficients: \\n', LR.coef_)\n",
    "msle = mean_squared_log_error(y_test, y_pred_lr)\n",
    "r2 = r2_score(y_test, y_pred_lr)\n",
    "mse = mean_squared_error(y_test, y_pred_lr)\n",
    "\n",
    "print(\"Mean Squared Logarithmic Error (MSLE):\", msle)\n",
    "print(\"Mean Squared Error (MSE):\", mse)\n",
    "print(\"R-squared (R2) Score:\", r2)"
   ]
  },
  {
   "cell_type": "code",
   "execution_count": 148,
   "metadata": {},
   "outputs": [
    {
     "data": {
      "image/png": "[encoded data removed]",
      "text/plain": [
       "<Figure size 432x432 with 1 Axes>"
      ]
     },
     "metadata": {},
     "output_type": "display_data"
    }
   ],
   "source": [
    "#Ploting feature importance graph\n",
    "\n",
    "coef = pd.Series(abs(LR.coef_), index = X_train.columns)\n",
    "imp_coef = coef.sort_values()\n",
    "plt.rcParams['figure.figsize'] = (6.0, 6.0)\n",
    "imp_coef.plot(kind = \"barh\")\n",
    "plt.title(\"Feature importance using Linear Regression Model\")\n",
    "plt.savefig('Linear-Regression-Feature-Importance.jpg')\n",
    "plt.show()"
   ]
  },
  {
   "cell_type": "code",
   "execution_count": 140,
   "metadata": {},
   "outputs": [
    {
     "data": {
      "image/png": "[encoded data removed]",
      "text/plain": [
       "<Figure size 720x360 with 1 Axes>"
      ]
     },
     "metadata": {},
     "output_type": "display_data"
    }
   ],
   "source": [
    "#Visualization of true value and predicted\n",
    "\n",
    "df_check = pd.DataFrame({'Actual': y_test, 'Predicted': y_pred_lr})\n",
    "df_check = df_check.sample(20)\n",
    "df_check.plot(kind='bar',figsize=(10,5))\n",
    "plt.grid(which='major', linestyle='-', linewidth='0.1', color='Green')\n",
    "plt.title('Performance of Linear Regression')\n",
    "# plt.savefig('Linear-Regression-Performance')\n",
    "plt.show()"
   ]
  },
  {
   "cell_type": "markdown",
   "metadata": {},
   "source": [
    "### Ridge CV Regressor"
   ]
  },
  {
   "cell_type": "code",
   "execution_count": 135,
   "metadata": {},
   "outputs": [
    {
     "name": "stdout",
     "output_type": "stream",
     "text": [
      "Best alpha: 10.0\n"
     ]
    }
   ],
   "source": [
    "from sklearn.linear_model import RidgeCV\n",
    "from sklearn.metrics import mean_squared_error\n",
    "\n",
    "# Define a range of alpha values to try\n",
    "alphas = [0.01, 0.1, 1.0, 10.0, 100]  # Add more alpha values if needed\n",
    "\n",
    "# Create a RidgeCV regression model with cross-validation\n",
    "ridge_cv = RidgeCV(alphas=alphas, store_cv_values=True)\n",
    "\n",
    "# Fit the model to the training data\n",
    "ridge_cv.fit(X_train, y_train)\n",
    "\n",
    "# Find the best alpha value chosen by cross-validation\n",
    "best_alpha = ridge_cv.alpha_\n",
    "print(\"Best alpha:\", best_alpha)"
   ]
  },
  {
   "cell_type": "code",
   "execution_count": 136,
   "metadata": {},
   "outputs": [],
   "source": [
    "y_pred_ridge = ridge_cv.predict(X_test)"
   ]
  },
  {
   "cell_type": "code",
   "execution_count": 137,
   "metadata": {},
   "outputs": [
    {
     "name": "stdout",
     "output_type": "stream",
     "text": [
      "Coefficients: \n",
      " [-0.00093493  0.41713665 -0.00052705 -0.00903816 -0.00943067  0.15402968\n",
      " -0.08412426 -0.24899454 -0.07134715  0.03093785 -0.10409059 -0.00318468\n",
      "  0.00582499  0.00577597]\n",
      "Mean Squared Logarithmic Error (MSLE): 0.0023792015503190725\n",
      "Mean Squared Error (MSE): 0.25030264441782274\n",
      "R-squared (R2) Score: 0.6293519559694547\n"
     ]
    }
   ],
   "source": [
    "print('Coefficients: \\n', ridge_cv.coef_)\n",
    "msle = mean_squared_log_error(y_test, y_pred_ridge)\n",
    "r2 = r2_score(y_test, y_pred_ridge)\n",
    "mse = mean_squared_error(y_test, y_pred_ridge)\n",
    "\n",
    "print(\"Mean Squared Logarithmic Error (MSLE):\", msle)\n",
    "print(\"Mean Squared Error (MSE):\", mse)\n",
    "print(\"R-squared (R2) Score:\", r2)"
   ]
  },
  {
   "cell_type": "code",
   "execution_count": 149,
   "metadata": {},
   "outputs": [
    {
     "data": {
      "image/png": "[encoded data removed]",
      "text/plain": [
       "<Figure size 432x432 with 1 Axes>"
      ]
     },
     "metadata": {},
     "output_type": "display_data"
    }
   ],
   "source": [
    "#Ploting feature importance graph\n",
    "\n",
    "coef = pd.Series(abs(ridge_cv.coef_), index = X_train.columns)\n",
    "imp_coef = coef.sort_values()\n",
    "plt.rcParams['figure.figsize'] = (6.0, 6.0)\n",
    "imp_coef.plot(kind = \"barh\")\n",
    "plt.title(\"Feature importance using RidgeCV Model\")\n",
    "# plt.savefig('RidgeCV-Feature-Importance.jpg')\n",
    "plt.show()"
   ]
  },
  {
   "cell_type": "code",
   "execution_count": 141,
   "metadata": {},
   "outputs": [
    {
     "data": {
      "image/png": "[encoded data removed]",
      "text/plain": [
       "<Figure size 720x360 with 1 Axes>"
      ]
     },
     "metadata": {},
     "output_type": "display_data"
    }
   ],
   "source": [
    "#Visualization of true value and predicted\n",
    "\n",
    "df_check = pd.DataFrame({'Actual': y_test, 'Predicted': y_pred_ridge})\n",
    "df_check = df_check.sample(20)\n",
    "df_check.plot(kind='bar',figsize=(10,5))\n",
    "plt.grid(which='major', linestyle='-', linewidth='0.1', color='Green')\n",
    "plt.title('Performance of RidgeCV')\n",
    "# plt.savefig('Linear-Regression-Performance')\n",
    "plt.show()"
   ]
  },
  {
   "cell_type": "markdown",
   "metadata": {},
   "source": [
    "### Random Forest Regressor"
   ]
  },
  {
   "cell_type": "code",
   "execution_count": 142,
   "metadata": {},
   "outputs": [],
   "source": [
    "RFR = RandomForestRegressor(n_estimators=100,random_state=0, min_samples_leaf=1, max_features=0.5, n_jobs=-1, oob_score=True)\n",
    "RFR.fit(X_train,y_train)\n",
    "y_pred_rf = RFR.predict(X_test)"
   ]
  },
  {
   "cell_type": "code",
   "execution_count": 144,
   "metadata": {},
   "outputs": [
    {
     "name": "stdout",
     "output_type": "stream",
     "text": [
      "Coefficients: \n",
      " [0.02289753 0.40470176 0.03879314 0.06394159 0.01630752 0.0730801\n",
      " 0.06048043 0.18772032 0.00726323 0.02438542 0.05492031 0.00716197\n",
      " 0.02503173 0.01331494]\n",
      "Mean Squared Logarithmic Error (MSLE): 0.0006006749775615494\n",
      "Mean Squared Error (MSE): 0.05911693487904448\n",
      "R-squared (R2) Score: 0.9124596692417575\n"
     ]
    }
   ],
   "source": [
    "print('Coefficients: \\n', RFR.feature_importances_)\n",
    "msle = mean_squared_log_error(y_test, y_pred_rf)\n",
    "r2 = r2_score(y_test, y_pred_rf)\n",
    "mse = mean_squared_error(y_test, y_pred_rf)\n",
    "\n",
    "print(\"Mean Squared Logarithmic Error (MSLE):\", msle)\n",
    "print(\"Mean Squared Error (MSE):\", mse)\n",
    "print(\"R-squared (R2) Score:\", r2)"
   ]
  },
  {
   "cell_type": "code",
   "execution_count": 145,
   "metadata": {},
   "outputs": [
    {
     "data": {
      "image/png": "[encoded data removed]",
      "text/plain": [
       "<Figure size 432x432 with 1 Axes>"
      ]
     },
     "metadata": {},
     "output_type": "display_data"
    }
   ],
   "source": [
    "#Ploting feature importance graph\n",
    "\n",
    "coef = pd.Series(RFR.feature_importances_, index = X_train.columns)\n",
    "imp_coef = coef.sort_values()\n",
    "plt.rcParams['figure.figsize'] = (6.0, 6.0)\n",
    "imp_coef.plot(kind = \"barh\")\n",
    "plt.title(\"Feature importance using Random Forest Model\")\n",
    "# plt.savefig('Random-Forest-Importance.jpg')\n",
    "plt.show()"
   ]
  },
  {
   "cell_type": "code",
   "execution_count": 150,
   "metadata": {},
   "outputs": [
    {
     "data": {
      "image/png": "[encoded data removed]",
      "text/plain": [
       "<Figure size 720x360 with 1 Axes>"
      ]
     },
     "metadata": {},
     "output_type": "display_data"
    }
   ],
   "source": [
    "#Visualization of true value and predicted\n",
    "\n",
    "df_check = pd.DataFrame({'Actual': y_test, 'Predicted': y_pred_rf})\n",
    "df_check = df_check.sample(20)\n",
    "df_check.plot(kind='bar',figsize=(10,5))\n",
    "plt.grid(which='major', linestyle='-', linewidth='0.1', color='Green')\n",
    "plt.title('Performance of Random Forest')\n",
    "# plt.savefig('Random-Forest-Performance')\n",
    "plt.show()"
   ]
  },
  {
   "cell_type": "markdown",
   "metadata": {},
   "source": [
    "## Evaluation"
   ]
  },
  {
   "cell_type": "markdown",
   "metadata": {},
   "source": [
    "Model evaluation is an iterative process, and it may require fine-tuning and re-evaluation to achieve the best results.\n",
    "\n",
    "Based on the results above, we can see the `Random Forest` outperforming the other regression models.\n",
    "We are considering the evaluation parameters `MLSE` over `MSE` as our target variable is `logarithmic`. Also in the case of Random Forest, the `High R2` value indicates that the model has fitted the data significantly well explaining most of the variance.\n"
   ]
  },
  {
   "cell_type": "markdown",
   "metadata": {},
   "source": [
    "## Deployment"
   ]
  },
  {
   "cell_type": "markdown",
   "metadata": {},
   "source": [
    "Based on the feature importance plots above, it’s very obvious that the Age of the car is the most important aspect determining the price of a Car. Having experimented a few ML techniques, the Random Forest Regressor was the best among other regression models.The R2 score was computed for each of the models. We could also train on a larger data with less missing values to give a better accuracy.\n",
    "\n",
    "Further model refinement and hyperparameter tuning could potentially improve predictive performance.\n",
    "\n",
    "To understand what factors make a car more or less expensive in the used car market and provide recommendations to a used car dealership on what consumers value, we need to consider several key factors that influence a car's price. These factors include vehicle-specific factors, market factors, and consumer preferences."
   ]
  },
  {
   "cell_type": "code",
   "execution_count": null,
   "metadata": {},
   "outputs": [],
   "source": []
  }
 ],
 "metadata": {
  "kernelspec": {
   "display_name": "Python 3 (ipykernel)",
   "language": "python",
   "name": "python3"
  },
  "language_info": {
   "codemirror_mode": {
    "name": "ipython",
    "version": 3
   },
   "file_extension": ".py",
   "mimetype": "text/x-python",
   "name": "python",
   "nbconvert_exporter": "python",
   "pygments_lexer": "ipython3",
   "version": "3.10.10"
  }
 },
 "nbformat": 4,
 "nbformat_minor": 4
}
